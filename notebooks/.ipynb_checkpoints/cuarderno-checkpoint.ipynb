{
 "cells": [
  {
   "cell_type": "markdown",
   "id": "a04aee09",
   "metadata": {},
   "source": [
    "# Pimer programa"
   ]
  },
  {
   "cell_type": "code",
   "execution_count": null,
   "id": "cb0458aa",
   "metadata": {
    "vscode": {
     "languageId": "plaintext"
    }
   },
   "outputs": [],
   "source": [
    "print(\"hola mundo\")"
   ]
  }
 ],
 "metadata": {
  "language_info": {
   "name": "python"
  }
 },
 "nbformat": 4,
 "nbformat_minor": 5
}
