{
 "cells": [
  {
   "cell_type": "markdown",
   "id": "5ebd9f08-2816-4d3c-9296-5a8e6efaaa42",
   "metadata": {},
   "source": [
    "# ¿Cuántas veces se mostrará el mensaje?\n",
    "\n",
    "Marcos está desarrollando un programa para mostrar un mensaje de bienvenida repetidamente en la consola, como parte de una campaña de marketing de su plataforma llamada Buscante. Quiere asegurarse de que el mensaje se muestre 5 veces.\n",
    "\n",
    "Ayuda a Marcos a escribir un programa que muestre el mensaje: \"¡Bienvenido a Buscante!\" el número exacto de veces que necesita.\n",
    "\n",
    "Salida esperada:\n",
    "\n",
    "```bash\n",
    "¡Bienvenido a Buscante!\n",
    "¡Bienvenido a Buscante!\n",
    "¡Bienvenido a Buscante!\n",
    "¡Bienvenido a Buscante!\n",
    "```"
   ]
  },
  {
   "cell_type": "code",
   "execution_count": 1,
   "id": "4d919665-de1c-48e1-a63e-5067c753ba53",
   "metadata": {},
   "outputs": [
    {
     "name": "stdout",
     "output_type": "stream",
     "text": [
      "¡Bienvenido a Buscante!\n",
      "¡Bienvenido a Buscante!\n",
      "¡Bienvenido a Buscante!\n",
      "¡Bienvenido a Buscante!\n",
      "¡Bienvenido a Buscante!\n"
     ]
    }
   ],
   "source": [
    "for m in range(5):\n",
    "    print(\"¡Bienvenido a Buscante!\")"
   ]
  }
 ],
 "metadata": {
  "kernelspec": {
   "display_name": "Python 3 (ipykernel)",
   "language": "python",
   "name": "python3"
  },
  "language_info": {
   "codemirror_mode": {
    "name": "ipython",
    "version": 3
   },
   "file_extension": ".py",
   "mimetype": "text/x-python",
   "name": "python",
   "nbconvert_exporter": "python",
   "pygments_lexer": "ipython3",
   "version": "3.13.0"
  }
 },
 "nbformat": 4,
 "nbformat_minor": 5
}
