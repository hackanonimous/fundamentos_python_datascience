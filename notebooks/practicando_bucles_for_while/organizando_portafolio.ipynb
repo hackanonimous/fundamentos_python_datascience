{
 "cells": [
  {
   "cell_type": "markdown",
   "id": "3338dd94-c11b-4fe3-a4e6-4a485b026716",
   "metadata": {},
   "source": [
    "# Organizando tu portafolio\n",
    "Ana está desarrollando su portafolio para exhibir los proyectos de Python que ha completado. Ella organizó una lista con el nombre de cada proyecto, pero se dio cuenta de que algunos elementos pueden estar ausentes, apareciendo como `None`:\n",
    "```python\n",
    "proyectos = [\"sitio web\", \"juego\", \"análisis de datos\", None, \"aplicativo móvil\"]\n",
    "```\n",
    "Crea un programa que ayude a Ana a recorrer la lista de proyectos y muestre los nombres de los proyectos válidos. Si encuentra un elemento None, el programa debe mostrar el mensaje: \"Proyecto ausente\".\n",
    "\n",
    "*Salida esperada:*\n",
    "    \n",
    "```txt\n",
    "sitio web\n",
    "juego\n",
    "análisis de datos\n",
    "Proyecto ausente\n",
    "aplicativo móvil\n",
    "```"
   ]
  },
  {
   "cell_type": "code",
   "execution_count": 10,
   "id": "15658f54-55e6-4fe7-9ca2-afd5532d05b8",
   "metadata": {},
   "outputs": [
    {
     "name": "stdout",
     "output_type": "stream",
     "text": [
      "sitio web\n",
      "juego\n",
      "análisis de datos\n",
      "Proyecto ausente\n",
      "aplicativo móvil\n"
     ]
    }
   ],
   "source": [
    "proyectos:list=[\"sitio web\", \"juego\", \"análisis de datos\", None, \"aplicativo móvil\"]\n",
    "for el in proyectos:\n",
    "    print(\"Proyecto ausente\" if el is None else el)\n",
    "    "
   ]
  }
 ],
 "metadata": {
  "kernelspec": {
   "display_name": "Python 3 (ipykernel)",
   "language": "python",
   "name": "python3"
  },
  "language_info": {
   "codemirror_mode": {
    "name": "ipython",
    "version": 3
   },
   "file_extension": ".py",
   "mimetype": "text/x-python",
   "name": "python",
   "nbconvert_exporter": "python",
   "pygments_lexer": "ipython3",
   "version": "3.13.0"
  }
 },
 "nbformat": 4,
 "nbformat_minor": 5
}
