{
 "cells": [
  {
   "cell_type": "markdown",
   "id": "a97209a8-c729-4166-8f14-4504c52565fb",
   "metadata": {},
   "source": [
    "# Control de inventario\n",
    "Estás desarrollando un sistema de control de inventario para Buscante. Uno de los requisitos es verificar la cantidad de ejemplares de un libro en inventario y continuar vendiendo hasta que el inventario se agote. Siempre que se realiza una venta, el sistema debe informar al usuario y actualizar la cantidad disponible.\n",
    "\n",
    "Crea un programa que simule las ventas de un libro con el inventario inicial de 5 ejemplares. El programa debe mostrar el mensaje \"¡Venta realizada! Inventario restante: <cantidad>\" con cada venta y, al final, mostrar el mensaje \"Inventario agotado\".\n",
    "\n",
    "*Salida esperada:*\n",
    "```bash\n",
    "¡Venta realizada! Inventario restante: 5\n",
    "¡Venta realizada! Inventario restante: 4\n",
    "¡Venta realizada! Inventario restante: 3\n",
    "¡Venta realizada! Inventario restante: 2\n",
    "¡Venta realizada! Inventario restante: 1\n",
    "Inventario agotado\n",
    "```"
   ]
  },
  {
   "cell_type": "code",
   "execution_count": 9,
   "id": "22f85753-45e9-4861-90d5-952ac67a8733",
   "metadata": {},
   "outputs": [
    {
     "name": "stdout",
     "output_type": "stream",
     "text": [
      "¡Venta realizada! Invenrario restante: 5\n",
      "¡Venta realizada! Invenrario restante: 4\n",
      "¡Venta realizada! Invenrario restante: 3\n",
      "¡Venta realizada! Invenrario restante: 2\n",
      "¡Venta realizada! Invenrario restante: 1\n",
      "Inventario agotado\n"
     ]
    }
   ],
   "source": [
    "for n in range(5,-1,-1):\n",
    "    print(f\"¡Venta realizada! Invenrario restante: {n}\" if n != 0 else \"Inventario agotado\")"
   ]
  }
 ],
 "metadata": {
  "kernelspec": {
   "display_name": "Python 3 (ipykernel)",
   "language": "python",
   "name": "python3"
  },
  "language_info": {
   "codemirror_mode": {
    "name": "ipython",
    "version": 3
   },
   "file_extension": ".py",
   "mimetype": "text/x-python",
   "name": "python",
   "nbconvert_exporter": "python",
   "pygments_lexer": "ipython3",
   "version": "3.13.0"
  }
 },
 "nbformat": 4,
 "nbformat_minor": 5
}
