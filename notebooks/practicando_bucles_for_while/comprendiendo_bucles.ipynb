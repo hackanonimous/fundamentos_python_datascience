{
 "cells": [
  {
   "cell_type": "markdown",
   "id": "418dc8ec-e965-48e8-96cc-de2aca70cf63",
   "metadata": {},
   "source": [
    "# Comprendiendo lazos\n",
    "\n",
    "Ana está desarrollando un programa que necesita procesar una lista de 5 nombres de clientes para generar informes mensuales. Para ello, necesita escribir un programa que recorra la lista de nombres y muestre cada cliente.\n",
    "```python\n",
    "clientes = [\"Juan\", \"Maria\", \"Carlos\", \"Ana\", \"Beatriz\"]\n",
    "```\n",
    "Ayuda a Ana a decidir entre usar un lazo for o while. Escribe el programa usando el lazo que creas más adecuado para esta tarea y explica por qué elegiste ese lazo."
   ]
  },
  {
   "cell_type": "code",
   "execution_count": 5,
   "id": "204e440d-69c1-4988-9450-e310490f7477",
   "metadata": {},
   "outputs": [
    {
     "name": "stdout",
     "output_type": "stream",
     "text": [
      "Juan\n",
      "Maria\n",
      "Carlos\n",
      "Ana\n",
      "Beatriz\n"
     ]
    }
   ],
   "source": [
    "clientes:list=[\"Juan\",\"Maria\",\"Carlos\",\"Ana\",\"Beatriz\"]\n",
    "# recorro la lista donde el tomara un elemento de la lista en cada iteracion\n",
    "for el in clientes:\n",
    "    print(el)"
   ]
  }
 ],
 "metadata": {
  "kernelspec": {
   "display_name": "Python 3 (ipykernel)",
   "language": "python",
   "name": "python3"
  },
  "language_info": {
   "codemirror_mode": {
    "name": "ipython",
    "version": 3
   },
   "file_extension": ".py",
   "mimetype": "text/x-python",
   "name": "python",
   "nbconvert_exporter": "python",
   "pygments_lexer": "ipython3",
   "version": "3.13.0"
  }
 },
 "nbformat": 4,
 "nbformat_minor": 5
}
