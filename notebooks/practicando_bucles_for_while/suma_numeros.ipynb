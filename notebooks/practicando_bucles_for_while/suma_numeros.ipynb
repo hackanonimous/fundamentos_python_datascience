{
 "cells": [
  {
   "cell_type": "markdown",
   "id": "29c77793-c6ac-4100-b773-0723677a93ca",
   "metadata": {},
   "source": [
    "# Calculando la suma de números\n",
    "Estás recibiendo una lista de valores que representan los productos de tu tienda virtual y te gustaría calcular la suma total de esos productos para entender el desempeño financiero semanal.\n",
    "```python\n",
    "valores = [10, 20, 30, 40, 50]\n",
    "```\n",
    "Crea un programa para implementar la suma.\n",
    "\n",
    "**Salida esperada:**\n",
    "```bash\n",
    "\"La suma total de los ingresos es: 150\"\n",
    "```"
   ]
  },
  {
   "cell_type": "code",
   "execution_count": 10,
   "id": "40289aa1-8d59-418e-adb8-9336b9c0102e",
   "metadata": {},
   "outputs": [
    {
     "name": "stdout",
     "output_type": "stream",
     "text": [
      "La suma total de los ingresos es: 150\n"
     ]
    }
   ],
   "source": [
    "valores:list=[10,20,30,40,50]\n",
    "suma:int=0\n",
    "for n in valores:\n",
    "    suma+=n\n",
    "print(f\"La suma total de los ingresos es: {suma}\")"
   ]
  },
  {
   "cell_type": "code",
   "execution_count": 11,
   "id": "029a7361-2fe9-445d-ab9a-dd1fd31de2cd",
   "metadata": {},
   "outputs": [
    {
     "name": "stdout",
     "output_type": "stream",
     "text": [
      "La suma total de los ingresos es: 150\n"
     ]
    }
   ],
   "source": [
    "# factorizando\n",
    "print(f\"La suma total de los ingresos es: {sum(valores)}\")"
   ]
  }
 ],
 "metadata": {
  "kernelspec": {
   "display_name": "Python 3 (ipykernel)",
   "language": "python",
   "name": "python3"
  },
  "language_info": {
   "codemirror_mode": {
    "name": "ipython",
    "version": 3
   },
   "file_extension": ".py",
   "mimetype": "text/x-python",
   "name": "python",
   "nbconvert_exporter": "python",
   "pygments_lexer": "ipython3",
   "version": "3.13.0"
  }
 },
 "nbformat": 4,
 "nbformat_minor": 5
}
