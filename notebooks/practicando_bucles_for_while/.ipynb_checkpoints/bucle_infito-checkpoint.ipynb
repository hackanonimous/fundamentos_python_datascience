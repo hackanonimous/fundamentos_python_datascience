{
 "cells": [
  {
   "cell_type": "markdown",
   "id": "6c6b8aff-6483-42a6-8a4a-6ab346b5a4aa",
   "metadata": {},
   "source": [
    "# ¿Qué es un bucle infinito?\n",
    "André está probando una nueva función en el backend de Buscante que procesa datos en un bucle. Durante las pruebas, se dio cuenta de que el sistema dejó de responder y sospecha que el problema está en un bucle infinito.\n",
    "```python\n",
    "contador = 0\n",
    "\n",
    "while contador < 10:\n",
    "    print(\"Procesando datos...\")\n",
    "```\n",
    "¿Cuál es el problema del código de André y cómo resolverlo? ¡Compártelo con nosotros en el foro!"
   ]
  },
  {
   "cell_type": "code",
   "execution_count": 8,
   "id": "8a3c4c1d-a28b-4211-a90e-26c40b1ba1ed",
   "metadata": {},
   "outputs": [
    {
     "name": "stdout",
     "output_type": "stream",
     "text": [
      "Procesando datos...\n",
      "Procesando datos...\n",
      "Procesando datos...\n",
      "Procesando datos...\n",
      "Procesando datos...\n",
      "Procesando datos...\n",
      "Procesando datos...\n",
      "Procesando datos...\n",
      "Procesando datos...\n",
      "Procesando datos...\n"
     ]
    }
   ],
   "source": [
    "\"\"\"\n",
    "El problema es que la condicion siempre sera verdadera por que contador\n",
    "siempre valdra 0, por lo tanto contador siempre sera menor a 10.\n",
    "\n",
    "La solucion hacer que el contador sume mas uno en cada iteracion, esto\n",
    "hara que mi contador en algun momento llegue a valer 10 en este caso\n",
    "la condicion sera False y terminar el bucle.\n",
    "para esto agregamos una linea de codigo donde se le sume 1 al contador\n",
    "\"\"\"\n",
    "contador=0\n",
    "while contador < 10:\n",
    "    print(\"Procesando datos...\")\n",
    "    contador+=1"
   ]
  },
  {
   "cell_type": "code",
   "execution_count": null,
   "id": "57e3b4ad-98ee-4d16-a189-c88ae8df5c06",
   "metadata": {},
   "outputs": [],
   "source": []
  }
 ],
 "metadata": {
  "kernelspec": {
   "display_name": "Python 3 (ipykernel)",
   "language": "python",
   "name": "python3"
  },
  "language_info": {
   "codemirror_mode": {
    "name": "ipython",
    "version": 3
   },
   "file_extension": ".py",
   "mimetype": "text/x-python",
   "name": "python",
   "nbconvert_exporter": "python",
   "pygments_lexer": "ipython3",
   "version": "3.13.0"
  }
 },
 "nbformat": 4,
 "nbformat_minor": 5
}
