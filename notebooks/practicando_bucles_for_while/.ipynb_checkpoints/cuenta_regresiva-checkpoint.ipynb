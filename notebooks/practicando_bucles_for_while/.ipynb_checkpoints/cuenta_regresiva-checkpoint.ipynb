{
 "cells": [
  {
   "cell_type": "markdown",
   "id": "1aec73c6-b425-4a3e-bd1a-05447d5f8894",
   "metadata": {},
   "source": [
    "# Cuenta Regresiva\n",
    "Aline está implementando una funcionalidad que muestra mensajes personalizados para los clientes durante una promoción especial de su nueva librería. El sistema debe mostrar un mensaje de cuenta regresiva personalizado para cada número de 10 a 1, y al final mostrar el mensaje: `\"¡Aprovecha la promoción ahora!\".\n",
    "\n",
    "Crea un programa que utilice un bucle for para mostrar los siguientes mensajes:\n",
    "\n",
    "* Para números pares, muestra: \"Faltan solo <número> segundos - ¡No pierdas esta oportunidad!\".\n",
    "* Para números impares, muestra: \"La cuenta continúa: <número> segundos restantes.\".\n",
    "* Al final de la cuenta, muestra el mensaje: \"¡Aprovecha la promoción ahora!\".\n",
    "\n",
    "*Salida esperada:*\n",
    "\n",
    "```bash\n",
    "Falta solo 10 segundos - ¡No pierdas esta oportunidad!\n",
    "La cuenta continúa: 9 segundos restantes.\n",
    "Falta solo 8 segundos - ¡No pierdas esta oportunidad!\n",
    "La cuenta continúa: 7 segundos restantes.\n",
    "Falta solo 6 segundos - ¡No pierdas esta oportunidad!\n",
    "La cuenta continúa: 5 segundos restantes.\n",
    "Falta solo 4 segundos - ¡No pierdas esta oportunidad!\n",
    "La cuenta continúa: 3 segundos restantes.\n",
    "Falta solo 2 segundos - ¡No pierdas esta oportunidad!\n",
    "La cuenta continúa: 1 segundos restantes.\n",
    "¡Aprovecha la promoción ahora!\n",
    "```"
   ]
  },
  {
   "cell_type": "code",
   "execution_count": 3,
   "id": "1cdc3746-2040-40fa-b204-3bca9dbc224b",
   "metadata": {},
   "outputs": [
    {
     "name": "stdout",
     "output_type": "stream",
     "text": [
      "Falta solo 10 segundos - ¡No pierdas esta oportunidad!\n",
      "La cuenta continúa: 9 segundos restantes.\n",
      "Falta solo 8 segundos - ¡No pierdas esta oportunidad!\n",
      "La cuenta continúa: 7 segundos restantes.\n",
      "Falta solo 6 segundos - ¡No pierdas esta oportunidad!\n",
      "La cuenta continúa: 5 segundos restantes.\n",
      "Falta solo 4 segundos - ¡No pierdas esta oportunidad!\n",
      "La cuenta continúa: 3 segundos restantes.\n",
      "Falta solo 2 segundos - ¡No pierdas esta oportunidad!\n",
      "La cuenta continúa: 1 segundos restantes.\n",
      "¡Aprovecha la promoción ahora!\n"
     ]
    }
   ],
   "source": [
    "for n in range(10,-1,-1):\n",
    "    if n==0:\n",
    "        print(\"¡Aprovecha la promoción ahora!\")\n",
    "    else:\n",
    "        print(f\"Falta solo {n} segundos - ¡No pierdas esta oportunidad!\" if n%2==0 else f\"La cuenta continúa: {n} segundos restantes.\")\n",
    "      "
   ]
  }
 ],
 "metadata": {
  "kernelspec": {
   "display_name": "Python 3 (ipykernel)",
   "language": "python",
   "name": "python3"
  },
  "language_info": {
   "codemirror_mode": {
    "name": "ipython",
    "version": 3
   },
   "file_extension": ".py",
   "mimetype": "text/x-python",
   "name": "python",
   "nbconvert_exporter": "python",
   "pygments_lexer": "ipython3",
   "version": "3.13.0"
  }
 },
 "nbformat": 4,
 "nbformat_minor": 5
}
