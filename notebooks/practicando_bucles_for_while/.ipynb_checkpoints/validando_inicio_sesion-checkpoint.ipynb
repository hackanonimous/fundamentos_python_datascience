{
 "cells": [
  {
   "cell_type": "markdown",
   "id": "a24e3f69-b8a5-4f9f-9213-b0b8b460fafa",
   "metadata": {},
   "source": [
    "# Validación de entrada para inicio de sesión\n",
    "João está desarrollando un sistema de registro para un sitio de lectura. Necesita asegurarse de que los usuarios ingresen un nombre de usuario y una contraseña válidos. Las reglas son las siguientes:\n",
    "\n",
    "El nombre de usuario debe tener al menos 5 caracteres.\n",
    "La contraseña debe tener al menos 8 caracteres.\n",
    "João quiere que el sistema siga solicitando la información hasta que ambas condiciones se cumplan. Cuando el usuario ingresa datos válidos, el programa debe mostrar el mensaje: \"¡Registro realizado con éxito!\".\n",
    "\n",
    "Crea un programa que implemente esta lógica usando un bucle while.\n",
    "\n",
    "*Salida esperada:*\n",
    "```bash\n",
    "Digite su nombre de usuario: user\n",
    "Digite su contraseña: 123\n",
    "El nombre de usuario debe tener al menor 5 caracteres.\n",
    "Digite su nombre de usuario: user22\n",
    "Digite su contraseña: 1234\n",
    "La contraseña debe tener al menos 8 caracteres.\n",
    "Digite su nombre de usuario: user22\n",
    "Digite su contraseña: 12345678\n",
    "¡Registro realizado con éxito!\n",
    "```"
   ]
  },
  {
   "cell_type": "code",
   "execution_count": 5,
   "id": "4ac5f0b4-ecde-4bb1-96dd-f40e72bdcfad",
   "metadata": {},
   "outputs": [
    {
     "name": "stdin",
     "output_type": "stream",
     "text": [
      "Digite su nombre de usuario: user22\n",
      "Digite su contraseña: 12345678\n"
     ]
    },
    {
     "name": "stdout",
     "output_type": "stream",
     "text": [
      "¡Registro realizado con éxito!\n"
     ]
    }
   ],
   "source": [
    "while True:\n",
    "    usuario:str=input(\"Digite su nombre de usuario:\")\n",
    "    password:str=input(\"Digite su contraseña:\")\n",
    "    if len(usuario)>=5 and len(password)>=8:\n",
    "        print(\"¡Registro realizado con éxito!\")\n",
    "        break\n",
    "    else:\n",
    "        if len(usuario)<5:\n",
    "            print(\"El nombre de usuario debe tener al menor 5 caracteres.\")  \n",
    "        elif len(password)<8:\n",
    "            print(\"La contraseña debe tener al menos 8 caracteres.\")\n",
    "            "
   ]
  }
 ],
 "metadata": {
  "kernelspec": {
   "display_name": "Python 3 (ipykernel)",
   "language": "python",
   "name": "python3"
  },
  "language_info": {
   "codemirror_mode": {
    "name": "ipython",
    "version": 3
   },
   "file_extension": ".py",
   "mimetype": "text/x-python",
   "name": "python",
   "nbconvert_exporter": "python",
   "pygments_lexer": "ipython3",
   "version": "3.13.0"
  }
 },
 "nbformat": 4,
 "nbformat_minor": 5
}
