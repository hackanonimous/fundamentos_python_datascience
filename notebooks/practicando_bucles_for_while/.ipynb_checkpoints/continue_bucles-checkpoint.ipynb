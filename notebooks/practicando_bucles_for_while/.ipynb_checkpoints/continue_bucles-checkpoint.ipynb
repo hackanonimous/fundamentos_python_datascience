{
 "cells": [
  {
   "cell_type": "markdown",
   "id": "4adbe6ea-61fe-46fa-b7a6-11592a5d223d",
   "metadata": {},
   "source": [
    "# Utilidad del `continue` en bucles\n",
    "Ana está implementando un sistema de filtrado de libros en Buscante. La funcionalidad debe recorrer una lista de libros y mostrar el nombre de cada libro disponible en stock. Sin embargo, si el libro está agotado, debe ser ignorado durante la iteración.\n",
    "```python\n",
    "libros = [\n",
    "    {\"nombre\": \"1984\", \"stock\": 5},\n",
    "    {\"nombre\": \"Dom Casmurro\", \"stock\": 0},\n",
    "    {\"nombre\": \"El Principito\", \"stock\": 3},\n",
    "    {\"nombre\": \"El Hobbit\", \"stock\": 0},\n",
    "    {\"nombre\": \"Orgullo y Prejuicio\", \"stock\": 2}\n",
    "]\n",
    "````\n",
    "Crea un programa que ayude a Ana a mostrar solamente los libros que tienen stock disponible, en el formato: \"Libro disponible: <nombre del libro>\".\n",
    "\n",
    "*Salida esperada:*\n",
    "```bash\n",
    "Libro disponible: 1984\n",
    "Libro disponible: El Principito\n",
    "Libro disponible: Orgullo y Prejuicio\n",
    "```"
   ]
  },
  {
   "cell_type": "code",
   "execution_count": 10,
   "id": "fdba8693-b003-403f-835a-59d15def53e4",
   "metadata": {},
   "outputs": [
    {
     "name": "stdout",
     "output_type": "stream",
     "text": [
      "Libro disponible: 1984\n",
      "Libro disponible: El Principito\n",
      "Libro disponible: Orgullo y Prejuicio\n"
     ]
    }
   ],
   "source": [
    "libros = [\n",
    "    {\"nombre\": \"1984\", \"stock\": 5},\n",
    "    {\"nombre\": \"Dom Casmurro\", \"stock\": 0},\n",
    "    {\"nombre\": \"El Principito\", \"stock\": 3},\n",
    "    {\"nombre\": \"El Hobbit\", \"stock\": 0},\n",
    "    {\"nombre\": \"Orgullo y Prejuicio\", \"stock\": 2}\n",
    "]\n",
    "for l in libros:\n",
    "    if l[\"stock\"]==0:\n",
    "        continue\n",
    "    print(f\"Libro disponible: {l[\"nombre\"]}\")"
   ]
  },
  {
   "cell_type": "code",
   "execution_count": null,
   "id": "e1884f85-7001-45be-99ff-a724efd72993",
   "metadata": {},
   "outputs": [],
   "source": [
    "# Refactorizando\n",
    "respuesta=list(map(lambda el:el[\"nombre\"],list(filter(lambda e:e[\"stock\"]!=0,libros))))\n",
    "for n in respuesta:\n",
    "    print(f\"Libro disponible: {n}\")"
   ]
  }
 ],
 "metadata": {
  "kernelspec": {
   "display_name": "Python 3 (ipykernel)",
   "language": "python",
   "name": "python3"
  },
  "language_info": {
   "codemirror_mode": {
    "name": "ipython",
    "version": 3
   },
   "file_extension": ".py",
   "mimetype": "text/x-python",
   "name": "python",
   "nbconvert_exporter": "python",
   "pygments_lexer": "ipython3",
   "version": "3.13.0"
  }
 },
 "nbformat": 4,
 "nbformat_minor": 5
}
