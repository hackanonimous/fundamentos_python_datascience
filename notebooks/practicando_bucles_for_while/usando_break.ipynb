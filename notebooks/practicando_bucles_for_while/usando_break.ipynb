{
 "cells": [
  {
   "cell_type": "markdown",
   "id": "b98fef68-4b16-4868-ad5f-a8832b77752f",
   "metadata": {},
   "source": [
    "# Entendiendo el uso del break\n",
    "José está desarrollando una funcionalidad en el sistema de Buscante para interrumpir la búsqueda tan pronto como se encuentre un libro específico. La lista de libros ya registrados en el sistema es la siguiente:\n",
    "```python\n",
    "libros = [\"1984\", \"Cien años de soledad\", \"El Principito\", \"El Hobbit\", \"Orgullo y Prejuicio\"]\n",
    "```\n",
    "\n",
    "Ayuda a José a crear un programa que recorra la lista y muestre el mensaje \"Libro encontrado: <nombre del libro>\" tan pronto como se encuentre el libro \"El Hobbit\". Después de encontrar el libro, el programa debe detener inmediatamente la búsqueda, sin verificar los libros restantes.\n",
    "\n",
    "*Salida esperada:*\n",
    "```bash\n",
    "Libro encontrado: El Hobbit\n",
    "```"
   ]
  },
  {
   "cell_type": "code",
   "execution_count": 3,
   "id": "5dd07508-42cb-4868-b34e-506bf980e9bd",
   "metadata": {},
   "outputs": [
    {
     "name": "stdout",
     "output_type": "stream",
     "text": [
      "1984\n",
      "Cien años de soledad\n",
      "El Principito\n",
      "El Hobbit\n",
      "Libro encontrado: El Hobbit\n"
     ]
    }
   ],
   "source": [
    "libros=[\"1984\", \"Cien años de soledad\", \"El Principito\", \"El Hobbit\", \"Orgullo y Prejuicio\"]\n",
    "libro=\"El Hobbit\"\n",
    "for el in libros:\n",
    "    print(el)\n",
    "    if libro in el:\n",
    "        print(\"Libro encontrado: El Hobbit\")\n",
    "        break"
   ]
  }
 ],
 "metadata": {
  "kernelspec": {
   "display_name": "Python 3 (ipykernel)",
   "language": "python",
   "name": "python3"
  },
  "language_info": {
   "codemirror_mode": {
    "name": "ipython",
    "version": 3
   },
   "file_extension": ".py",
   "mimetype": "text/x-python",
   "name": "python",
   "nbconvert_exporter": "python",
   "pygments_lexer": "ipython3",
   "version": "3.13.0"
  }
 },
 "nbformat": 4,
 "nbformat_minor": 5
}
