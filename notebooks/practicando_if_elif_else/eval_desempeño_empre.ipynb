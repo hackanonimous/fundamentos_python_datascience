{
 "cells": [
  {
   "cell_type": "markdown",
   "id": "e9b2e67f-89a7-4114-902b-8ec13f075d38",
   "metadata": {},
   "source": [
    "# Sistema de evaluación de desempeño empresarial\n",
    "\n",
    "Una empresa evalúa su trimestre con base en:\n",
    "* Ingresos totales\n",
    "* Gastos totales\n",
    "* Número de nuevos clientes\n",
    "\n",
    "Clasificación:\n",
    "* Si ingresos - gastos > 10,000 y más de 50 nuevos clientes → \"Trimestre Excelente\"\n",
    "* Si ingresos - gastos > 5,000 y al menos 20 clientes → \"Trimestre Bueno\"\n",
    "* Si ingresos - gastos > 0 → \"Trimestre Regular\"\n",
    "* Si ingresos - gastos ≤ 0 → \"Trimestre Deficitario\""
   ]
  },
  {
   "cell_type": "code",
   "execution_count": 3,
   "id": "7883ea6f-b841-4125-9fbd-37ddf80857be",
   "metadata": {},
   "outputs": [
    {
     "name": "stdin",
     "output_type": "stream",
     "text": [
      "Digite sus ingresos totales:  30000\n",
      "Digite sus gastos totales:  19000\n",
      "Digite el numero de clientes nuevos:  51\n"
     ]
    },
    {
     "name": "stdout",
     "output_type": "stream",
     "text": [
      "Trimestre Excelente\n"
     ]
    }
   ],
   "source": [
    "ingresos_totales:int=int(input(\"Digite sus ingresos totales: \"))\n",
    "gastos_totales:int=int(input(\"Digite sus gastos totales: \"))\n",
    "nuevos_clientes:int=int(input(\"Digite el numero de clientes nuevos: \"))\n",
    "if ingresos_totales-gastos_totales>10000 and nuevos_clientes>50:\n",
    "    print(\"Trimestre Excelente\")\n",
    "elif ingresos_totales-gastos_totales>5000 and nuevos_clientes>=20:\n",
    "    print(\"Trimestre Bueno\")\n",
    "elif ingresos_totales-gastos_totales>0:\n",
    "    print(\"Trimestre Regular\")\n",
    "else:\n",
    "    print(\"Trimestre Deficitario\")"
   ]
  }
 ],
 "metadata": {
  "kernelspec": {
   "display_name": "Python 3 (ipykernel)",
   "language": "python",
   "name": "python3"
  },
  "language_info": {
   "codemirror_mode": {
    "name": "ipython",
    "version": 3
   },
   "file_extension": ".py",
   "mimetype": "text/x-python",
   "name": "python",
   "nbconvert_exporter": "python",
   "pygments_lexer": "ipython3",
   "version": "3.13.0"
  }
 },
 "nbformat": 4,
 "nbformat_minor": 5
}
