{
 "cells": [
  {
   "cell_type": "markdown",
   "id": "e9b2e67f-89a7-4114-902b-8ec13f075d38",
   "metadata": {},
   "source": [
    "# Evaluación de desempeño de un empleado\n",
    "Una empresa evalúa a sus empleados con base en dos criterios:\n",
    "\n",
    "* Puntuación de desempeño (de 0 a 10)\n",
    "* Años trabajados\n",
    "\n",
    "Reglas:\n",
    "\n",
    "* Si la puntuación es mayor o igual a 7:\n",
    "    * Si trabajó más de 5 años: \"Elegible para ascenso\"\n",
    "    * Si trabajó 5 años o menos: \"Buen desempeño, sigue así\"\n",
    "* Si la puntuación es menor a 7: \"Necesita mejorar\"\n",
    "\n",
    "Crea un programa que reciba la puntuación y los años trabajados, y muestre el mensaje adecuado."
   ]
  },
  {
   "cell_type": "code",
   "execution_count": 5,
   "id": "7883ea6f-b841-4125-9fbd-37ddf80857be",
   "metadata": {},
   "outputs": [
    {
     "name": "stdin",
     "output_type": "stream",
     "text": [
      "Ingrese la puntuacion de desempeño (de 0 a 10):  7\n",
      "Ingrese los años de trabajo:  6\n"
     ]
    },
    {
     "name": "stdout",
     "output_type": "stream",
     "text": [
      "Usted es elegible para el ascenco\n"
     ]
    }
   ],
   "source": [
    "puntuacion=int(input(\"Ingrese la puntuacion de desempeño (de 0 a 10): \"))\n",
    "tiempo_trabajo=int(input(\"Ingrese los años de trabajo: \"))\n",
    "if puntuacion>=7:\n",
    "    if tiempo_trabajo>5:\n",
    "        print(\"Usted es elegible para el ascenco\")\n",
    "    elif 0<tiempo_trabajo<=5:\n",
    "        print(\"Buen desempeño, sigue asi\")\n",
    "    else:\n",
    "        print(\"aun no tiene suficiente años en la empresa\")\n",
    "else:\n",
    "    print(\"Necesita mejorar\")"
   ]
  }
 ],
 "metadata": {
  "kernelspec": {
   "display_name": "Python 3 (ipykernel)",
   "language": "python",
   "name": "python3"
  },
  "language_info": {
   "codemirror_mode": {
    "name": "ipython",
    "version": 3
   },
   "file_extension": ".py",
   "mimetype": "text/x-python",
   "name": "python",
   "nbconvert_exporter": "python",
   "pygments_lexer": "ipython3",
   "version": "3.13.0"
  }
 },
 "nbformat": 4,
 "nbformat_minor": 5
}
