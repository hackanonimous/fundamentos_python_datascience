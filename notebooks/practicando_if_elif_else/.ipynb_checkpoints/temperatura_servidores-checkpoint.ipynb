{
 "cells": [
  {
   "cell_type": "markdown",
   "id": "2bb2bbdf-54e4-48f2-9f5d-a9fdebb17b54",
   "metadata": {},
   "source": [
    "## Temperatura de los servidores\n",
    "Lucas trabaja en TI y necesita garantizar que la temperatura de una sala de servidores no supere los 25°C. Quiere un programa que reciba la temperatura actual como entrada y, si es necesario, muestre un mensaje de alerta.\n",
    "\n",
    "Salida esperada:\n",
    "```bash\n",
    "Digite la temperatura actual: 30\n",
    "¡Alerta! Temperatura por encima del limite permitido\n",
    "```"
   ]
  },
  {
   "cell_type": "code",
   "execution_count": 2,
   "id": "cf7cba73-0cd8-4f7e-a5cf-9250e4caa131",
   "metadata": {},
   "outputs": [
    {
     "name": "stdin",
     "output_type": "stream",
     "text": [
      "Digite la temperatura actual: 30\n"
     ]
    },
    {
     "name": "stdout",
     "output_type": "stream",
     "text": [
      "¡Alerta! Temperatura por encima del limite permitido\n"
     ]
    }
   ],
   "source": [
    "temperatura=int(input(\"Digite la temperatura actual:\"))\n",
    "if temperatura>25:\n",
    "    print(\"¡Alerta! Temperatura por encima del limite permitido\")\n",
    "else:\n",
    "    print(\"Temperatura dentro del limite permitido\")"
   ]
  },
  {
   "cell_type": "code",
   "execution_count": 12,
   "id": "3e627a6b-ceff-47ce-ba0d-cbebb0ed04d8",
   "metadata": {},
   "outputs": [
    {
     "name": "stdin",
     "output_type": "stream",
     "text": [
      "digita temepratura: 30\n"
     ]
    },
    {
     "name": "stdout",
     "output_type": "stream",
     "text": [
      "¡Alerta! Temperatura por encima del limite permitido\n"
     ]
    }
   ],
   "source": [
    "temp=int(input(\"digita temepratura:\"))\n",
    "mensaje = \"¡Alerta! Temperatura por encima del limite permitido\" if temp > 25 else \"Temperatura dentro limite permitido\"\n",
    "print(mensaje)"
   ]
  }
 ],
 "metadata": {
  "kernelspec": {
   "display_name": "Python 3 (ipykernel)",
   "language": "python",
   "name": "python3"
  },
  "language_info": {
   "codemirror_mode": {
    "name": "ipython",
    "version": 3
   },
   "file_extension": ".py",
   "mimetype": "text/x-python",
   "name": "python",
   "nbconvert_exporter": "python",
   "pygments_lexer": "ipython3",
   "version": "3.13.0"
  }
 },
 "nbformat": 4,
 "nbformat_minor": 5
}
