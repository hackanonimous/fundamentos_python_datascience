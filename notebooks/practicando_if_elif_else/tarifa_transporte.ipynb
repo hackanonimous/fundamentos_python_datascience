{
 "cells": [
  {
   "cell_type": "markdown",
   "id": "5053a58f-f7e1-4f2a-8ff5-eeeba65a85dc",
   "metadata": {},
   "source": [
    "# Sistema de tarifas de transporte por edad y distancia\n",
    "\n",
    "Un sistema de transporte cobra según la edad del pasajero y la distancia recorrida:\n",
    "\n",
    "* Menores de 6 años: Viajan gratis.\n",
    "* De 6 a 18 años:\n",
    "    * Hasta 20 km: 1.50\n",
    "    * Más de 20 km: 2.50\n",
    "* Mayores de 18:\n",
    "    * Hasta 20 km: 2.50\n",
    "    * Más de 20 km: 4.00\n",
    "\n",
    "Crea un programa que reciba la edad y distancia, y muestre el valor a pagar."
   ]
  },
  {
   "cell_type": "code",
   "execution_count": 9,
   "id": "030f3159-1116-4a3e-a365-1a72274421a4",
   "metadata": {},
   "outputs": [
    {
     "name": "stdin",
     "output_type": "stream",
     "text": [
      "Ingrese su edad:  19\n",
      "Ingrese la distancia recorrida: 23\n"
     ]
    },
    {
     "name": "stdout",
     "output_type": "stream",
     "text": [
      "Paga la tarifa de $4.00\n"
     ]
    }
   ],
   "source": [
    "edad_pasajero:int=int(input(\"Ingrese su edad: \"))\n",
    "distancia:int=int(input(\"Ingrese la distancia recorrida:\"))\n",
    "if edad_pasajero < 6:\n",
    "    print(\"Viaja gratis\")\n",
    "elif 6<=edad_pasajero<=18:\n",
    "    if 0<distancia<=20:\n",
    "        print(\"Paga la tarifa de $1.50\")\n",
    "    else:\n",
    "        print(\"Paga la tarifa de $2.50\")\n",
    "else:\n",
    "    if 0<distancia<=20:\n",
    "        print(\"Paga la tarifa de $2.50\")\n",
    "    else:\n",
    "        print(\"Paga la tarifa de $4.00\")"
   ]
  }
 ],
 "metadata": {
  "kernelspec": {
   "display_name": "Python 3 (ipykernel)",
   "language": "python",
   "name": "python3"
  },
  "language_info": {
   "codemirror_mode": {
    "name": "ipython",
    "version": 3
   },
   "file_extension": ".py",
   "mimetype": "text/x-python",
   "name": "python",
   "nbconvert_exporter": "python",
   "pygments_lexer": "ipython3",
   "version": "3.13.0"
  }
 },
 "nbformat": 4,
 "nbformat_minor": 5
}
