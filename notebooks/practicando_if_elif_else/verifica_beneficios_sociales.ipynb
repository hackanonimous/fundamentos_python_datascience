{
 "cells": [
  {
   "cell_type": "markdown",
   "id": "9d757877-35a0-4108-8848-7aed2de86e0c",
   "metadata": {},
   "source": [
    "# Verificando acceso a beneficios sociales\n",
    "Laura está desarrollando un sistema para saber si una persona tiene derecho a recibir un beneficio social. Para eso, la persona debe cumplir las siguientes condiciones:\n",
    "\n",
    "* Tener ingresos menores o iguales a $2,000.\n",
    "* Tener al menos un hijo o hija.\n",
    "\n",
    "Crea un programa que reciba los ingresos mensuales y la cantidad de hijos de una persona, y diga si tiene derecho al beneficio."
   ]
  },
  {
   "cell_type": "code",
   "execution_count": 3,
   "id": "92050df4-d595-4e33-8900-ff03eea60459",
   "metadata": {},
   "outputs": [
    {
     "name": "stdin",
     "output_type": "stream",
     "text": [
      "Ingrese el total de sus ingresos mensuales:  2200\n",
      "Ingrese la cantidad de hijos que tiene:  1\n"
     ]
    },
    {
     "name": "stdout",
     "output_type": "stream",
     "text": [
      "Usted no tiene derecho al beneficio\n"
     ]
    }
   ],
   "source": [
    "ingresos:int=int(input(\"Ingrese el total de sus ingresos mensuales: \"))\n",
    "cant_hijos:int=int(input(\"Ingrese la cantidad de hijos que tiene: \"))\n",
    "if ingresos<=2000 and cant_hijos>0:\n",
    "    print(\"Usted aplica para su beneficion social\")\n",
    "else:\n",
    "    print(\"Usted no tiene derecho al beneficio\")"
   ]
  }
 ],
 "metadata": {
  "kernelspec": {
   "display_name": "Python 3 (ipykernel)",
   "language": "python",
   "name": "python3"
  },
  "language_info": {
   "codemirror_mode": {
    "name": "ipython",
    "version": 3
   },
   "file_extension": ".py",
   "mimetype": "text/x-python",
   "name": "python",
   "nbconvert_exporter": "python",
   "pygments_lexer": "ipython3",
   "version": "3.13.0"
  }
 },
 "nbformat": 4,
 "nbformat_minor": 5
}
