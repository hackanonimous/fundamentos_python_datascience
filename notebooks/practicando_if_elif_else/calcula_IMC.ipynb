{
 "cells": [
  {
   "cell_type": "markdown",
   "id": "e98dba9f-86dc-4b0d-b1b4-e5a8c35eb5ea",
   "metadata": {},
   "source": [
    "# Calculando el IMC\n",
    "Anna Júlia está creando un sistema para calcular el Índice de Masa Corporal (IMC) y proporcionar recomendaciones básicas. El programa debe recibir el peso y la altura de una persona y mostrar el valor del IMC, además de indicar si está por debajo del peso, con peso normal o por encima del peso. Crea un programa que reciba el peso (en kg) y la altura (en metros) y calcule el IMC usando la fórmula: IMC = peso / (altura ** 2)Luego, muestra el valor del IMC y un mensaje indicando si está por debajo del peso (IMC < 18.5), peso normal (18.5 <= IMC < 25) o por encima del peso (IMC >= 25).\n",
    "\n",
    "**Salida esperada:**\n",
    "```python\n",
    "Digite su peso (kg): 60\n",
    "Digite su altura (m): 1.65\n",
    "Su IMC es: 22.04\n",
    "Tienes un peso normal\n",
    "```"
   ]
  },
  {
   "cell_type": "code",
   "execution_count": 4,
   "id": "082a17d4-3f4c-4637-b995-f07ba6144178",
   "metadata": {},
   "outputs": [
    {
     "name": "stdin",
     "output_type": "stream",
     "text": [
      "Digite su peso (kg):  50\n",
      "Digite su altura (m):  1.66\n"
     ]
    },
    {
     "name": "stdout",
     "output_type": "stream",
     "text": [
      "esta por debajo del peso normal\n"
     ]
    }
   ],
   "source": [
    "peso=int(input(\"Digite su peso (kg): \"))\n",
    "altura=float(input(\"Digite su altura (m): \"))\n",
    "valor_IMC=peso/(altura**2)\n",
    "if valor_IMC<18.5:\n",
    "    print(\"esta por debajo del peso normal\")\n",
    "elif 18.5 <= valor_IMC < 25:\n",
    "    print(\"Tienes un peso normal\")\n",
    "else:\n",
    "    print(\"Esta por encima del peso normal\")"
   ]
  }
 ],
 "metadata": {
  "kernelspec": {
   "display_name": "Python 3 (ipykernel)",
   "language": "python",
   "name": "python3"
  },
  "language_info": {
   "codemirror_mode": {
    "name": "ipython",
    "version": 3
   },
   "file_extension": ".py",
   "mimetype": "text/x-python",
   "name": "python",
   "nbconvert_exporter": "python",
   "pygments_lexer": "ipython3",
   "version": "3.13.0"
  }
 },
 "nbformat": 4,
 "nbformat_minor": 5
}
