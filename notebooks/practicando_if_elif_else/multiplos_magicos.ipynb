{
 "cells": [
  {
   "cell_type": "markdown",
   "id": "023f415f-8c2a-40e2-901c-ecbcfba83c20",
   "metadata": {},
   "source": [
    "# Juego de múltiplos mágicos\n",
    "\n",
    "Estás desarrollando un pequeño juego. El usuario ingresa un número entero y el programa debe evaluar lo siguiente:\n",
    "* Si el número es divisible por 3 y 5, muestra: \"¡Número mágico!\"\n",
    "* Si solo es divisible por 3, muestra: \"Divisible por 3\"\n",
    "* Si solo es divisible por 5, muestra: \"Divisible por 5\"\n",
    "* Si no es divisible por ninguno, muestra: \"No es un número mágico\"\n",
    "\n",
    "Este tipo de lógica es muy útil en juegos, validaciones o filtros."
   ]
  },
  {
   "cell_type": "code",
   "execution_count": 6,
   "id": "42c7066f-1c64-41ca-b937-0b92c1b6d56a",
   "metadata": {},
   "outputs": [
    {
     "name": "stdin",
     "output_type": "stream",
     "text": [
      "Ingrese un numero entero:  4\n"
     ]
    },
    {
     "name": "stdout",
     "output_type": "stream",
     "text": [
      "No es un número mágico\n"
     ]
    }
   ],
   "source": [
    "numero_usuario=int(input(\"Ingrese un numero entero: \"))\n",
    "if (numero_usuario%3==0 and numero_usuario%5==0):\n",
    "    print(\"¡Número mágico\")\n",
    "elif numero_usuario%3==0:\n",
    "    print(\"Divisible por 3\")\n",
    "elif numero_usuario%5==0:\n",
    "    print(\"Divisible por 5\")\n",
    "else:\n",
    "    print(\"No es un número mágico\")"
   ]
  }
 ],
 "metadata": {
  "kernelspec": {
   "display_name": "Python 3 (ipykernel)",
   "language": "python",
   "name": "python3"
  },
  "language_info": {
   "codemirror_mode": {
    "name": "ipython",
    "version": 3
   },
   "file_extension": ".py",
   "mimetype": "text/x-python",
   "name": "python",
   "nbconvert_exporter": "python",
   "pygments_lexer": "ipython3",
   "version": "3.13.0"
  }
 },
 "nbformat": 4,
 "nbformat_minor": 5
}
