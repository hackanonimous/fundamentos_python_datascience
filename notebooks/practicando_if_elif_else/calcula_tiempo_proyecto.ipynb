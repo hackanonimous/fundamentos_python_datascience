{
 "cells": [
  {
   "cell_type": "markdown",
   "id": "44a51d18-6ff9-4f8f-98a7-90d1e5b66d46",
   "metadata": {},
   "source": [
    "# calculando el tiempo total del proyecto\n",
    "Camila está organizando un proyecto y necesita calcular el tiempo total necesario para concluir tres actividades: A, B y C. Sin embargo, si alguna actividad tiene un número de días negativo, el código debe avisar que los valores ingresados son inválidos y no calcular el total.\n",
    "\n",
    "Escribe un programa que reciba el número de días de tres actividades y muestre el tiempo total del proyecto. Si algún valor es negativo, muestra un mensaje informando el error.\n",
    "\n",
    "**Salida esperada:**\n",
    "```bash\n",
    "Informe los dias para la actividad A: 8\n",
    "Informe los dias para la actividad B: 6\n",
    "Informe los dias para la actividad C: -7\n",
    "Error: Los dias no pueden ser negativos.\n",
    "```"
   ]
  },
  {
   "cell_type": "code",
   "execution_count": 8,
   "id": "64e7528a-b8e6-4c8c-9043-6d506d7a2c56",
   "metadata": {},
   "outputs": [
    {
     "name": "stdin",
     "output_type": "stream",
     "text": [
      "Informe los días para la actividad A:  5\n",
      "Informe los días para la actividad B:  4\n",
      "Informe los días para la actividad C:  3\n"
     ]
    },
    {
     "name": "stdout",
     "output_type": "stream",
     "text": [
      "El tiempo total para el proyecto es de: 12\n"
     ]
    }
   ],
   "source": [
    "actividad_A=int(input(\"Informe los días para la actividad A: \"))\n",
    "actividad_B=int(input(\"Informe los días para la actividad B: \"))\n",
    "actividad_C=int(input(\"Informe los días para la actividad C: \"))\n",
    "if actividad_A<0 or actividad_B<0 or actividad_C<0:\n",
    "    print(\"Error: Los dias no pueden ser negativos\")\n",
    "else:\n",
    "    total_dias=actividad_A+actividad_B+actividad_C\n",
    "    print(f\"El tiempo total para el proyecto es de: {total_dias}\")"
   ]
  },
  {
   "cell_type": "code",
   "execution_count": null,
   "id": "6871eef2-f78d-4935-bb79-e995f8b32c95",
   "metadata": {},
   "outputs": [],
   "source": []
  }
 ],
 "metadata": {
  "kernelspec": {
   "display_name": "Python 3 (ipykernel)",
   "language": "python",
   "name": "python3"
  },
  "language_info": {
   "codemirror_mode": {
    "name": "ipython",
    "version": 3
   },
   "file_extension": ".py",
   "mimetype": "text/x-python",
   "name": "python",
   "nbconvert_exporter": "python",
   "pygments_lexer": "ipython3",
   "version": "3.13.0"
  }
 },
 "nbformat": 4,
 "nbformat_minor": 5
}
