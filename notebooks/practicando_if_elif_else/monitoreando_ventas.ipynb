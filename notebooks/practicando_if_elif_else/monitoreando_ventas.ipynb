{
 "cells": [
  {
   "cell_type": "code",
   "execution_count": 3,
   "id": "b1be9cb4-b803-40dc-b3ac-07a58144438a",
   "metadata": {},
   "outputs": [
    {
     "name": "stdin",
     "output_type": "stream",
     "text": [
      "igrese la cantidad de manzanas vendidas: 5\n",
      "igrese la cantidad de platanos vendidas: 5\n"
     ]
    },
    {
     "name": "stdout",
     "output_type": "stream",
     "text": [
      "hubo un empate de ventas\n"
     ]
    }
   ],
   "source": [
    "manzanas,platanos=int(input(\"igrese la cantidad de manzanas vendidas:\")),int(input(\"igrese la cantidad de platanos vendidas:\"))\n",
    "if manzanas>platanos:\n",
    "    print(\"Las manzanas tuvieron mas ventas\")\n",
    "elif platanos>manzanas:\n",
    "    print(\"Los platanos tuvieron mas ventas\")\n",
    "else:\n",
    "    print(\"hubo un empate de ventas\")"
   ]
  },
  {
   "cell_type": "code",
   "execution_count": null,
   "id": "9658552d-02fe-40be-853a-282733e7b642",
   "metadata": {},
   "outputs": [],
   "source": []
  }
 ],
 "metadata": {
  "kernelspec": {
   "display_name": "Python 3 (ipykernel)",
   "language": "python",
   "name": "python3"
  },
  "language_info": {
   "codemirror_mode": {
    "name": "ipython",
    "version": 3
   },
   "file_extension": ".py",
   "mimetype": "text/x-python",
   "name": "python",
   "nbconvert_exporter": "python",
   "pygments_lexer": "ipython3",
   "version": "3.13.0"
  }
 },
 "nbformat": 4,
 "nbformat_minor": 5
}
