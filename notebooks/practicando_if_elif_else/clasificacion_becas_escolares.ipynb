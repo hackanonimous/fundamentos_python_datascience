{
 "cells": [
  {
   "cell_type": "markdown",
   "id": "39eab399-9f3f-4b66-b752-acbd38d384ce",
   "metadata": {},
   "source": [
    "# Sistema de clasificación para becas escolares\n",
    "\n",
    "Una escuela otorga becas según tres criterios:\n",
    "* Ingreso familiar mensual.\n",
    "* Promedio del estudiante.\n",
    "* Asistencia (en porcentaje).\n",
    "\n",
    "Reglas:\n",
    "* Si el ingreso es menor a 1,500 y el promedio es mayor a 8.0 y la asistencia es al menos 90% → \"Beca completa\".\n",
    "* Si el ingreso es menor a 2,500 y promedio mayor a 7.0 y asistencia al menos 85% → \"Media beca\"\n",
    "* En otros casos -> \"No elegible para beca\""
   ]
  },
  {
   "cell_type": "code",
   "execution_count": 4,
   "id": "1d646912-36fd-4068-88ed-298d4561f8ef",
   "metadata": {},
   "outputs": [
    {
     "name": "stdin",
     "output_type": "stream",
     "text": [
      "Digite su ingreso familiar mensual:  1500\n",
      "Digite el promedio del estudiante:  7.1\n",
      "Digite el pordentaje de la asistencia:  85\n"
     ]
    },
    {
     "name": "stdout",
     "output_type": "stream",
     "text": [
      "Media beca\n"
     ]
    }
   ],
   "source": [
    "ingreso_mensual=int(input(\"Digite su ingreso familiar mensual: \"))\n",
    "promedio_estudiante=float(input(\"Digite el promedio del estudiante: \"))\n",
    "porciento_asistencia=int(input(\"Digite el pordentaje de la asistencia: \"))\n",
    "if ingreso_mensual<1500 and promedio_estudiante>8.0 and porciento_asistencia==90:\n",
    "    print(\"Beca completa\")\n",
    "elif ingreso_mensual<2500 and promedio_estudiante>7.0 and porciento_asistencia==85:\n",
    "    print(\"Media beca\")\n",
    "else:\n",
    "    print(\"No elegible\")"
   ]
  }
 ],
 "metadata": {
  "kernelspec": {
   "display_name": "Python 3 (ipykernel)",
   "language": "python",
   "name": "python3"
  },
  "language_info": {
   "codemirror_mode": {
    "name": "ipython",
    "version": 3
   },
   "file_extension": ".py",
   "mimetype": "text/x-python",
   "name": "python",
   "nbconvert_exporter": "python",
   "pygments_lexer": "ipython3",
   "version": "3.13.0"
  }
 },
 "nbformat": 4,
 "nbformat_minor": 5
}
