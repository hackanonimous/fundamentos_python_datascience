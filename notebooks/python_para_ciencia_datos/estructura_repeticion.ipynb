{
 "cells": [
  {
   "cell_type": "markdown",
   "id": "ace12935-3fe4-47d4-afa5-3fd2e5a4cd62",
   "metadata": {},
   "source": [
    "# Estructuras de repeticion\n",
    "lo usamos cuando teneos que ejecutar un mismso bloque de comandos durante varias ocasiones.\n",
    "\n",
    "**Situacion**: nos fue solicitado obtener e imprimir el promedio de 2 notas de **3 estudiantes**"
   ]
  },
  {
   "cell_type": "code",
   "execution_count": 2,
   "id": "e0d9bd79-88ab-42a3-acfb-caa597e60f46",
   "metadata": {},
   "outputs": [
    {
     "name": "stdin",
     "output_type": "stream",
     "text": [
      "Digite su primera nota: 24\n",
      "Digite su segunda nota: 23\n"
     ]
    },
    {
     "name": "stdout",
     "output_type": "stream",
     "text": [
      "El promedio del estudinate es : 23.5\n"
     ]
    },
    {
     "name": "stdin",
     "output_type": "stream",
     "text": [
      "Digite su primera nota: 12\n",
      "Digite su segunda nota: 14\n"
     ]
    },
    {
     "name": "stdout",
     "output_type": "stream",
     "text": [
      "El promedio del estudinate es : 13.0\n"
     ]
    },
    {
     "name": "stdin",
     "output_type": "stream",
     "text": [
      "Digite su primera nota: 15\n",
      "Digite su segunda nota: 14\n"
     ]
    },
    {
     "name": "stdout",
     "output_type": "stream",
     "text": [
      "El promedio del estudinate es : 14.5\n"
     ]
    }
   ],
   "source": [
    "#no optimo\n",
    "nota_1=float(input(\"Digite su primera nota:\"))\n",
    "nota_2=float(input(\"Digite su segunda nota:\"))\n",
    "print(f\"El promedio del estudinate es : {(nota_1+nota_2)/2}\")\n",
    "\n",
    "nota_1=float(input(\"Digite su primera nota:\"))\n",
    "nota_2=float(input(\"Digite su segunda nota:\"))\n",
    "print(f\"El promedio del estudinate es : {(nota_1+nota_2)/2}\")\n",
    "\n",
    "nota_1=float(input(\"Digite su primera nota:\"))\n",
    "nota_2=float(input(\"Digite su segunda nota:\"))\n",
    "print(f\"El promedio del estudinate es : {(nota_1+nota_2)/2}\")"
   ]
  },
  {
   "cell_type": "code",
   "execution_count": 3,
   "id": "05c34b8e-2fae-41bf-9e00-1fb8bbe4e37e",
   "metadata": {},
   "outputs": [
    {
     "name": "stdin",
     "output_type": "stream",
     "text": [
      "Digite su primera nota: 15\n",
      "Digite su segunda nota: 14\n"
     ]
    },
    {
     "name": "stdout",
     "output_type": "stream",
     "text": [
      "El promedio del estudinate es : 14.5\n"
     ]
    },
    {
     "name": "stdin",
     "output_type": "stream",
     "text": [
      "Digite su primera nota: 15\n",
      "Digite su segunda nota: 14\n"
     ]
    },
    {
     "name": "stdout",
     "output_type": "stream",
     "text": [
      "El promedio del estudinate es : 14.5\n"
     ]
    },
    {
     "name": "stdin",
     "output_type": "stream",
     "text": [
      "Digite su primera nota: 16\n",
      "Digite su segunda nota: 15\n"
     ]
    },
    {
     "name": "stdout",
     "output_type": "stream",
     "text": [
      "El promedio del estudinate es : 15.5\n"
     ]
    }
   ],
   "source": [
    "#codigo correcto\n",
    "for n in range(3):\n",
    "    nota_1=float(input(\"Digite su primera nota:\"))\n",
    "    nota_2=float(input(\"Digite su segunda nota:\"))\n",
    "    print(f\"El promedio del estudinate es : {(nota_1+nota_2)/2}\")"
   ]
  },
  {
   "cell_type": "markdown",
   "id": "1f93dac8-cfc9-48e7-a063-5abe2e4dea5f",
   "metadata": {},
   "source": [
    "## Lazo while\n",
    "es una estructura de control de repeticion en python que permite ejecutar un bloque de codigo repetidamente mientras que una condicion sea verdad.\n",
    "su estructura es :\n",
    "```python\n",
    "while condicion:\n",
    "    #bloque de codigo\n",
    "```\n",
    "Ejemplo: construir un ejemplo con un contador de 1 hasta 10"
   ]
  },
  {
   "cell_type": "code",
   "execution_count": 5,
   "id": "d6ac1667-05b3-4abb-91e9-0a23075637b6",
   "metadata": {},
   "outputs": [
    {
     "name": "stdout",
     "output_type": "stream",
     "text": [
      "1\n",
      "2\n",
      "3\n",
      "4\n",
      "5\n",
      "6\n",
      "7\n",
      "8\n",
      "9\n",
      "10\n"
     ]
    }
   ],
   "source": [
    "contador=1\n",
    "while contador<=10:\n",
    "    print(contador)\n",
    "    contador+=1"
   ]
  },
  {
   "cell_type": "markdown",
   "id": "591011ac-bac1-4d04-82fa-6dad89dc5f42",
   "metadata": {},
   "source": [
    "## Lazo for\n",
    "estructura de control de flujo que permite iterar sobre un conjunto de elementos.\n",
    "Su estrutura es:\n",
    "```python\n",
    "for elemento in conjunto:\n",
    "    #codigo a ser ejecutado por cada elemento\n",
    "```\n",
    "esto itera sobre cada elemento del conjunto y ejecuta el bloque de codigo para cada elemento, cuando el lazo llega al final se interrumpe y continua con la ejecucion.\n",
    "Una manera de generar el `conjunto` es con la funcion integrada `range()`, se trata de una funcion capaz de generar una secuencia de numeros enteros, la estructura de esta funcion es:\n",
    "```python\n",
    "range(inicio,fin,paso)\n",
    "```\n",
    "\n",
    "`range`genera una secuencia de numeros enteros comenzando con el parametro `inicio` hasta el valor del parametro `fin`, si el `paso` no se especifica iterar de un en uno por defecto.\n",
    "> **Observacion:** el parametro de inicio es `inclusivo` el parametro de fin es  `exclusivo`, en el caso que desemao que el numero fin se n deberiamos indicar que sera n+1"
   ]
  },
  {
   "cell_type": "code",
   "execution_count": 6,
   "id": "8f84e08f-c27f-4dd6-acfe-a74814c9e3f4",
   "metadata": {},
   "outputs": [
    {
     "name": "stdout",
     "output_type": "stream",
     "text": [
      "1\n",
      "2\n",
      "3\n",
      "4\n",
      "5\n",
      "6\n",
      "7\n",
      "8\n",
      "9\n",
      "10\n"
     ]
    }
   ],
   "source": [
    "for n in range(1,11,1):\n",
    "    print(n)"
   ]
  },
  {
   "cell_type": "markdown",
   "id": "91bba706-f53b-4416-b28e-11c47474b458",
   "metadata": {},
   "source": [
    "## Comandos de control\n",
    "al trabajar con bucles, podemos controlar el flujo de ejecucion dentro del bloque de codigo, lo que nos permite controla o manipular la ejecucion de un bucle.\n",
    "`continue` y `break` son los comandos de control que podemos usar en los bucles `for` y `while`."
   ]
  },
  {
   "cell_type": "markdown",
   "id": "d273b63b-4fa9-46eb-af6f-cc433dcd1141",
   "metadata": {},
   "source": [
    "### continue\n",
    "esto interrumpe la iteracion actual y salta a la siguiente iteracion.\n",
    "Ejemplo: programa que miestre del 1 al 5 execto 4"
   ]
  },
  {
   "cell_type": "code",
   "execution_count": 7,
   "id": "0bb44703-33d8-4569-b6a5-f160e52055c6",
   "metadata": {},
   "outputs": [
    {
     "name": "stdout",
     "output_type": "stream",
     "text": [
      "1\n",
      "2\n",
      "3\n",
      "5\n"
     ]
    }
   ],
   "source": [
    "for n in range(1,6):\n",
    "    if n == 4:\n",
    "        continue\n",
    "    print(n)"
   ]
  },
  {
   "cell_type": "markdown",
   "id": "6e850974-16c6-4e82-9dc5-ca1edda1ec6a",
   "metadata": {},
   "source": [
    "### break\n",
    "por otro lado este comando detiene por completo la ejecucion del bucle saliendo del bloque veamos el mismo ejemplo"
   ]
  },
  {
   "cell_type": "code",
   "execution_count": 8,
   "id": "36e528a9-ec12-478a-859b-ea6a72513353",
   "metadata": {},
   "outputs": [
    {
     "name": "stdout",
     "output_type": "stream",
     "text": [
      "1\n",
      "2\n",
      "3\n"
     ]
    }
   ],
   "source": [
    "for n in range(1,6):\n",
    "    if n == 4:\n",
    "        break\n",
    "    print(n)"
   ]
  },
  {
   "cell_type": "markdown",
   "id": "d7e793d3-e8b4-43a8-a661-ae275b9ea9a5",
   "metadata": {},
   "source": [
    "en este caso solo muestra los numero del 1 al 3  y cuando el valor de i es 4 `break` interrumpe por completo la ejecucion del bucle."
   ]
  },
  {
   "cell_type": "code",
   "execution_count": null,
   "id": "c005b91a-89e2-41d0-a126-687cbf92432c",
   "metadata": {},
   "outputs": [],
   "source": []
  }
 ],
 "metadata": {
  "kernelspec": {
   "display_name": "Python 3 (ipykernel)",
   "language": "python",
   "name": "python3"
  },
  "language_info": {
   "codemirror_mode": {
    "name": "ipython",
    "version": 3
   },
   "file_extension": ".py",
   "mimetype": "text/x-python",
   "name": "python",
   "nbconvert_exporter": "python",
   "pygments_lexer": "ipython3",
   "version": "3.13.0"
  }
 },
 "nbformat": 4,
 "nbformat_minor": 5
}
