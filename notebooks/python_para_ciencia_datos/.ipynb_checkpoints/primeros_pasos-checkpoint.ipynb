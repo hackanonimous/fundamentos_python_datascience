{
 "cells": [
  {
   "cell_type": "markdown",
   "id": "707c0822-4207-4d61-8581-cc229841b992",
   "metadata": {},
   "source": [
    "# Que es python"
   ]
  },
  {
   "cell_type": "markdown",
   "id": "51f19502-3200-498f-a0a2-20b420c06f0f",
   "metadata": {},
   "source": [
    "es un lenguaje de programacion de alto nivel, interpretado y\n",
    "orientado a objetos(multiparadigma), creado a finales del 1989\n",
    "por Guido van Rossum\n",
    "Python se usa en diversas areas como:\n",
    "- aplicaciones web\n",
    "- aprendizaje automatico\n",
    "- automatizacion de tareas\n",
    "- analisis de datos entre otras"
   ]
  },
  {
   "cell_type": "markdown",
   "id": "f89da35c-466d-41a0-af30-d29e95d7518e",
   "metadata": {},
   "source": [
    "## Hola mundo\n",
    "conociendo nuestro notebook. ejecutando nuestro primer comando usando\n",
    "built-in function son funcones incorporadas en python como print() funcion\n",
    "para mostrar valores"
   ]
  },
  {
   "cell_type": "code",
   "execution_count": 3,
   "id": "5fcd5282-196d-4340-9800-54fe42b98eb8",
   "metadata": {},
   "outputs": [
    {
     "name": "stdout",
     "output_type": "stream",
     "text": [
      "¡Hola Mundo!\n"
     ]
    }
   ],
   "source": [
    "print(\"¡Hola Mundo!\")"
   ]
  },
  {
   "cell_type": "code",
   "execution_count": 4,
   "id": "d739af0e-3e58-466d-80a4-55abd422936b",
   "metadata": {},
   "outputs": [
    {
     "name": "stdout",
     "output_type": "stream",
     "text": [
      "28 febrero 2003\n"
     ]
    }
   ],
   "source": [
    "print(f\"{28} febrero {2003}\")"
   ]
  },
  {
   "cell_type": "markdown",
   "id": "ccda1878-f820-43b6-8daf-b8e60dd65bed",
   "metadata": {},
   "source": [
    "## Manipulando datos en python\n",
    "### Variables\n",
    "las variables son creadas cuando le asignamos un valor\n",
    "para esto colocamos el nombre de la variable y el operador de asignacion(=) con\n",
    "el valor que le queremos asignar.\n",
    "\n",
    "existen algunos tipos de nombres que no podemos usar para definir una variable\n",
    "- Nombres que comiencen con numeros\n",
    "    - Ejemplos: `10_notas`, `2_nombre_casa`\n",
    "- Palabras sepradas por espacio\n",
    "    - Ejemplos: `Nombre escuela`, `notas estudiantes`\n",
    "- Nombres de funciones de Python\n",
    "    - Ejemplos: `print`, `type`\n",
    "\n",
    "Las letras mayusculas y minusculas generan diferentes variables. la variable `edad` es difernete de la variable `EDAD` tambien diferente a `Edad`."
   ]
  },
  {
   "cell_type": "code",
   "execution_count": 4,
   "id": "c53ab0be-feef-4680-bb39-1cb718c02935",
   "metadata": {},
   "outputs": [
    {
     "name": "stdout",
     "output_type": "stream",
     "text": [
      "139678174223888\n",
      "139678174223888\n",
      "139678174223920\n"
     ]
    }
   ],
   "source": [
    "edad=20\n",
    "Edad=20\n",
    "EDAD=20\n",
    "EDAD=21\n",
    "print(id(edad))\n",
    "print(id(Edad))\n",
    "print(id(EDAD))"
   ]
  },
  {
   "cell_type": "markdown",
   "id": "9d86d08d-64c4-488c-8fe1-0e5dac521e44",
   "metadata": {},
   "source": [
    "### Tipos de variables\n",
    "cada variable contiene una clase especifica con respecto al tipo de objeto\n",
    "al cual hace referencia.\n",
    "Estas clases seran diferentes de acuerdo al tipo de dato que se le asigne \n",
    "a la variable.\n",
    "Para conocer la clase de cada elemento usamos la funcion `type()`"
   ]
  },
  {
   "cell_type": "code",
   "execution_count": 8,
   "id": "91f8f81a-4d08-4c1f-9e2c-b6bc8c861b61",
   "metadata": {},
   "outputs": [
    {
     "data": {
      "text/plain": [
       "int"
      ]
     },
     "execution_count": 8,
     "metadata": {},
     "output_type": "execute_result"
    }
   ],
   "source": [
    "# 4 tipos de variables\n",
    "numero=23\n",
    "type(numero)"
   ]
  },
  {
   "cell_type": "code",
   "execution_count": 9,
   "id": "418c96b6-5f5f-4a0b-8cf9-ac681cef7360",
   "metadata": {},
   "outputs": [
    {
     "data": {
      "text/plain": [
       "float"
      ]
     },
     "execution_count": 9,
     "metadata": {},
     "output_type": "execute_result"
    }
   ],
   "source": [
    "decimal=4.0\n",
    "type(decimal)"
   ]
  },
  {
   "cell_type": "code",
   "execution_count": 10,
   "id": "7113a89c-64a4-4c3a-ba0b-c42f86c706d6",
   "metadata": {},
   "outputs": [
    {
     "data": {
      "text/plain": [
       "str"
      ]
     },
     "execution_count": 10,
     "metadata": {},
     "output_type": "execute_result"
    }
   ],
   "source": [
    "string=\"este es un texto\"\n",
    "type(string)"
   ]
  },
  {
   "cell_type": "code",
   "execution_count": 11,
   "id": "7d89e00d-8593-4417-9d82-d901cecdd9c0",
   "metadata": {},
   "outputs": [
    {
     "data": {
      "text/plain": [
       "bool"
      ]
     },
     "execution_count": 11,
     "metadata": {},
     "output_type": "execute_result"
    }
   ],
   "source": [
    "booleano=False\n",
    "type(booleano)"
   ]
  },
  {
   "cell_type": "markdown",
   "id": "6d606618-ef25-425f-9a6b-63a81e6aa73e",
   "metadata": {},
   "source": [
    "En una institucion educativa podemos tener varios tipos de infromacion\n",
    "supongamos que tenemos acceso a la ficha de datos del alumno *jose alvarez* \n",
    "como tranformamos esta informacion en variables de python:\n",
    "* Nombre: Jose Alvarez\n",
    "* Edad: 43\n",
    "* Promedio del semestre: 9.75\n",
    "* Situacion de aprobacion: Verdadera(aprobado)"
   ]
  },
  {
   "cell_type": "code",
   "execution_count": 12,
   "id": "5d762e3f-905e-405d-9e11-7ad1bc64468a",
   "metadata": {},
   "outputs": [],
   "source": [
    "nombre=\"Jose Alvarez\"\n",
    "edad=43\n",
    "promedio=9.75\n",
    "aprobado=True"
   ]
  },
  {
   "cell_type": "markdown",
   "id": "1af7d101-3705-4d79-8ec3-5e90188c5bdc",
   "metadata": {},
   "source": [
    "### Variable numericas\n",
    "nos enfocamos en los tipos `entero` y `float`.\n",
    "\n",
    "Tenemos una tabla de informacion sobre los diversos cargos, cantidad de \n",
    "personas empleadas y el salario correspondiente:\n",
    "\n",
    "|Cargo|Cantidad|Salario|\n",
    "|------|--------|-----|\n",
    "|Vigilante|5|300|\n",
    "|Docente|16|500|\n",
    "|Coordinador|2|600|\n",
    "\n",
    "Necesitamos trabajar con estos datos para obtener:\n",
    "* La cantidad total de empleados\n",
    "* La diferencia entre el salario mas bajo y mas alto\n",
    "* El promedio ponderado de los salarios de los empleados de la escuela\n"
   ]
  },
  {
   "cell_type": "code",
   "execution_count": 20,
   "id": "64f3b079-98bf-4bcf-a13b-d6af697498fd",
   "metadata": {},
   "outputs": [
    {
     "name": "stdout",
     "output_type": "stream",
     "text": [
      "23\n",
      "300\n",
      "466.6666666666667\n"
     ]
    }
   ],
   "source": [
    "vigilante_c,vigilante_s=5,300\n",
    "docente_c,docente_s=16,500\n",
    "coordinador_c,coordinador_s=2,600\n",
    "total_empleados=vigilante_c+docente_c+coordinador_c\n",
    "diferencia_salario=coordinador_s-vigilante_s\n",
    "promedio_salario=(vigilante_s+docente_s+coordinador_s)/3\n",
    "print(total_empleados)\n",
    "print(diferencia_salario)\n",
    "print(promedio_salario)"
   ]
  },
  {
   "cell_type": "markdown",
   "id": "bfaeb6a1-5a71-469c-a578-b851a07d2167",
   "metadata": {},
   "source": [
    "### Variables de texto\n",
    "### String\n",
    "string hace referencia a un conjunto de caracteres formando un texto.\n",
    "podemos crear string cuando atribuimos un dato a un variable entre comillas sencillas('') o comillas dobles(\"\").\n",
    "las variables textuales son objetos que poseen metodos que nos ayudan a formatear string. se define con la siguiente estructura:\n",
    "```python\n",
    "objeto.metodo()\n",
    "```"
   ]
  },
  {
   "cell_type": "code",
   "execution_count": 21,
   "id": "690f66aa-f6aa-43a8-9513-f1ca317c2ec5",
   "metadata": {},
   "outputs": [
    {
     "data": {
      "text/plain": [
       "str"
      ]
     },
     "execution_count": 21,
     "metadata": {},
     "output_type": "execute_result"
    }
   ],
   "source": [
    "texto=\"Aula\"\n",
    "type(texto)"
   ]
  },
  {
   "cell_type": "markdown",
   "id": "a6df10b4-6940-4696-bb4e-30d36ac4e0b2",
   "metadata": {},
   "source": [
    "tenemos una variable de string que para ser guardado necesita estar\n",
    "en mayuscula"
   ]
  },
  {
   "cell_type": "markdown",
   "id": "7f04f07f-499a-4188-b436-8083ad2db337",
   "metadata": {},
   "source": [
    "> str.upper()\n",
    "> \n",
    "convierte un string a mayusculas"
   ]
  },
  {
   "cell_type": "code",
   "execution_count": 41,
   "id": "3ca4cde9-acd6-4d6b-9ab3-76fef57c20c2",
   "metadata": {},
   "outputs": [
    {
     "data": {
      "text/plain": [
       "' JOSE LUIS ALVAREZ ESCOBAR '"
      ]
     },
     "execution_count": 41,
     "metadata": {},
     "output_type": "execute_result"
    }
   ],
   "source": [
    "nombre_usuario=\" Jose Luis Alvarez Escobar \"\n",
    "#el objeto final debe ser de la siguiente forma:\n",
    "#\"JOSE LUIS ALVAREZ ESCOBAR\"\n",
    "nombre_usuario.upper()"
   ]
  },
  {
   "cell_type": "markdown",
   "id": "c160e2bb-9efc-41aa-af94-9ad0e6d0f16c",
   "metadata": {},
   "source": [
    "> str-lower()\n",
    "> \n",
    "convierte un string a minuscula"
   ]
  },
  {
   "cell_type": "code",
   "execution_count": 42,
   "id": "916b5004-ca40-4b17-8f1a-c18307590733",
   "metadata": {},
   "outputs": [
    {
     "data": {
      "text/plain": [
       "' jose luis alvarez escobar '"
      ]
     },
     "execution_count": 42,
     "metadata": {},
     "output_type": "execute_result"
    }
   ],
   "source": [
    "nombre_usuario.lower()"
   ]
  },
  {
   "cell_type": "markdown",
   "id": "98fe5706-9e5d-4a7b-8272-ca4449cec808",
   "metadata": {},
   "source": [
    "> str.strip()\n",
    "\n",
    "Elimina los espacion en blanco al inicio y al final de un string"
   ]
  },
  {
   "cell_type": "code",
   "execution_count": 43,
   "id": "35550377-06c3-4c47-b756-976facbcb7d7",
   "metadata": {},
   "outputs": [
    {
     "data": {
      "text/plain": [
       "'Jose Luis Alvarez Escobar'"
      ]
     },
     "execution_count": 43,
     "metadata": {},
     "output_type": "execute_result"
    }
   ],
   "source": [
    "nombre_usuario.strip()"
   ]
  },
  {
   "cell_type": "markdown",
   "id": "2b3483b6-7e18-45da-9450-24702f213edc",
   "metadata": {},
   "source": [
    "> str.replace(antiguo, nuevo)\n",
    "\n",
    "Sustituye todas las ocurrencias del testo antiguo en la string por el nuevo"
   ]
  },
  {
   "cell_type": "code",
   "execution_count": 45,
   "id": "b2f9be95-8769-4434-a18b-dc40edae9490",
   "metadata": {},
   "outputs": [
    {
     "data": {
      "text/plain": [
       "' Jose Luis Rosmery Escobar '"
      ]
     },
     "execution_count": 45,
     "metadata": {},
     "output_type": "execute_result"
    }
   ],
   "source": [
    "nombre_usuario.replace('Alvarez','Rosmery')"
   ]
  },
  {
   "cell_type": "markdown",
   "id": "e5c3bcad-b644-4221-afbf-6b78be9fdae7",
   "metadata": {},
   "source": [
    "> [!TIP] **Observacion**\n",
    "> 1. Los metodos devuelven una **tranformacion**, no son ejecutados directamente sobre la variable donde esta almacenado el texto.\n",
    "> 2. Adicionalmente podemos acumular la ejecucion de los metodos. "
   ]
  },
  {
   "cell_type": "code",
   "execution_count": 47,
   "id": "d2b34719-1fd5-4937-8b6f-82c3c911d191",
   "metadata": {},
   "outputs": [
    {
     "name": "stdout",
     "output_type": "stream",
     "text": [
      "139677657051936 139677657150000\n",
      "The history saving thread hit an unexpected error (OperationalError('attempt to write a readonly database')).History will not be written to the database.\n"
     ]
    }
   ],
   "source": [
    "texto_trasformado=nombre_usuario.replace(\"Jose\",\"Mi amor\")\n",
    "texto_trasformado\n",
    "print(id(texto_trasformado),id(nombre_usuario))"
   ]
  },
  {
   "cell_type": "markdown",
   "id": "b8200b38-afdf-4fc6-b054-5c252342083f",
   "metadata": {},
   "source": [
    "para que la transformacion se pueda ejecutar debemos atribuir la salida de las \n",
    "trasnformaciones a una nueva variable."
   ]
  },
  {
   "cell_type": "markdown",
   "id": "adad8458-b1bb-4e0c-8cf8-01f8f1ac70a3",
   "metadata": {},
   "source": [
    "## Capturando datos\n",
    "En nuestras aplicaciones es necesario capturar los valores del usuario de nuestro proyecto.\n",
    "En python logramos capturar los datos del usuario a traves del comando `input()`\n",
    "Para guardar el dato capturado debemos atribuir el resultado a una variable."
   ]
  },
  {
   "cell_type": "code",
   "execution_count": 48,
   "id": "7923c147-6943-4cd3-9a3d-553e930f8342",
   "metadata": {},
   "outputs": [
    {
     "name": "stdin",
     "output_type": "stream",
     "text": [
      "Ingresa tu nombre: jose\n"
     ]
    }
   ],
   "source": [
    "como_te_llamas=input(\"Ingresa tu nombre:\")"
   ]
  },
  {
   "cell_type": "markdown",
   "id": "bb5889d8-2f1f-4d39-8897-ef9c820ff276",
   "metadata": {},
   "source": [
    "la salida de este input siempre sera un string. Eso quiere decir que aunque capturemos un valor numerico, este sera de tipo string.\n",
    "Entonces sera necesario convertir el resultado cuando no se desea utilizar el valor como tipo string.\n",
    "existen funciones para la conversion de valores:\n",
    "* Enteros: int(el dato a convertir)\n",
    "* Decimal: float(el dato a convertir)\n",
    "* String: str(el dato a convertir)\n",
    "* Booleano: bool(el dato a convertir)"
   ]
  },
  {
   "cell_type": "code",
   "execution_count": 50,
   "id": "913da6ce-7304-47da-affd-1591b08de8de",
   "metadata": {},
   "outputs": [
    {
     "name": "stdin",
     "output_type": "stream",
     "text": [
      "ingresa el año de admision: 2023\n"
     ]
    }
   ],
   "source": [
    "year_admision=input(\"ingresa el año de admision:\")"
   ]
  },
  {
   "cell_type": "code",
   "execution_count": 51,
   "id": "2d1f3b90-4b3e-400e-8b83-84e65a5d0c1b",
   "metadata": {},
   "outputs": [
    {
     "data": {
      "text/plain": [
       "str"
      ]
     },
     "execution_count": 51,
     "metadata": {},
     "output_type": "execute_result"
    }
   ],
   "source": [
    "type(year_admision)"
   ]
  },
  {
   "cell_type": "code",
   "execution_count": 52,
   "id": "4a5c763b-9b62-4d9f-baa7-059527676aa4",
   "metadata": {},
   "outputs": [
    {
     "name": "stdin",
     "output_type": "stream",
     "text": [
      "ingresa el año de egreso 345\n"
     ]
    },
    {
     "data": {
      "text/plain": [
       "int"
      ]
     },
     "execution_count": 52,
     "metadata": {},
     "output_type": "execute_result"
    }
   ],
   "source": [
    "year_egreso=int(input(\"ingresa el año de egreso\"))\n",
    "type(year_egreso)"
   ]
  },
  {
   "cell_type": "markdown",
   "id": "ce7332d4-4f3f-4558-a133-8664e9ce1b53",
   "metadata": {},
   "source": [
    "## Tabla unicode\n",
    "tabla de codificacion de caracteres que asocia codigos(segun ASCCI) numericos con caracteres especificos.\n",
    "esto permite que desarrolladores de todo el mundo trabajen contexto y carcateres de diferentes idiomas.\n"
   ]
  },
  {
   "cell_type": "code",
   "execution_count": 58,
   "id": "165b5cd2-ceff-4c4d-8708-a01221d69748",
   "metadata": {},
   "outputs": [
    {
     "name": "stdout",
     "output_type": "stream",
     "text": [
      "@\n",
      "`\n"
     ]
    }
   ],
   "source": [
    "arroba,comilla_invertida=chr(64),chr(96)\n",
    "print(arroba)\n",
    "print(comilla_invertida)"
   ]
  },
  {
   "cell_type": "code",
   "execution_count": 59,
   "id": "a10a45e6-5842-4080-93b0-13c0e70db381",
   "metadata": {},
   "outputs": [
    {
     "data": {
      "text/plain": [
       "'Hola'"
      ]
     },
     "execution_count": 59,
     "metadata": {},
     "output_type": "execute_result"
    }
   ],
   "source": [
    "chr(72)+chr(111)+chr(108)+chr(97)"
   ]
  },
  {
   "cell_type": "markdown",
   "id": "8eac5707-cd4a-408b-a166-c757cd356ddf",
   "metadata": {},
   "source": [
    "## Formatos de `print()`\n",
    "podemos visualizar el resultado de una variable dentro de una cadena de texto\n",
    "### f-string\n",
    "formateo de cadena, colocamos una f antes de crear la cadena y las variables las podemos colocar entre llaves `{}`."
   ]
  },
  {
   "cell_type": "code",
   "execution_count": 60,
   "id": "59ccf5f6-5638-4dcb-ba15-8a9b4048a31f",
   "metadata": {},
   "outputs": [
    {
     "name": "stdout",
     "output_type": "stream",
     "text": [
      "el nombre de la alumna es ruth marina y su edad es 18\n"
     ]
    }
   ],
   "source": [
    "nombre_alumna=\"ruth marina\"\n",
    "edad_alumna=18\n",
    "print(f\"el nombre de la alumna es {nombre_alumna} y su edad es {edad_alumna}\")"
   ]
  },
  {
   "cell_type": "markdown",
   "id": "5e543647-0a74-4f53-aebf-1398aef63319",
   "metadata": {},
   "source": [
    "### Operador de formateo (%)\n",
    "permite la insercion de variable en puntos espeficicos en la cadena de texto utilizando el operador `%`, este operador funcionan como un marcador indicando donde se expondra el valor de la variable en la cadena.\n",
    "El % debe ir acompañado de una palabra clave para cada tipo de variable que desea agregar, de acuerdo a la siguiente tabla:\n",
    "|Tipo de Variable|Palabra Clave|\n",
    "|-------|------|\n",
    "|Cadena de texto|%s|\n",
    "|Entero|%d|\n",
    "|Punto flotante|%f|\n",
    "|Caracter|%c|\n",
    "\n",
    "De esta manera, para insertar una variable, puedes agregar el operador en la cadena en el punto deseado.\n",
    "Luego al final de la cadena, agrega nuevamente el `%`, especificando la variable entre parentesis"
   ]
  },
  {
   "cell_type": "code",
   "execution_count": 62,
   "id": "55dd0a8a-fef8-4e50-9b4c-2089c09eeeca",
   "metadata": {},
   "outputs": [
    {
     "name": "stdout",
     "output_type": "stream",
     "text": [
      "Nombre del docente: Jose Luis\n"
     ]
    }
   ],
   "source": [
    "name_teacher=\"Jose Luis\"\n",
    "print(\"Nombre del docente: %s\"%(name_teacher))"
   ]
  },
  {
   "cell_type": "code",
   "execution_count": 63,
   "id": "60b431e7-0c0f-4fdc-adfd-b433259955c4",
   "metadata": {},
   "outputs": [
    {
     "name": "stdout",
     "output_type": "stream",
     "text": [
      "nombre del alumno: marilyn, tiene 11 años y su promedio de nota es 9.060000\n"
     ]
    }
   ],
   "source": [
    "# si tenemos mas de una variable, debemos ordenarlo segun su aparicion en el\n",
    "#texto y separadas por comas\n",
    "name_alumn=\"marilyn\"\n",
    "edad_alumn=11\n",
    "promedio_alumn=9.06\n",
    "print(\"nombre del alumno: %s, tiene %d años y su promedio de nota es %f\"%(name_alumn,edad_alumn,promedio_alumn))\n"
   ]
  },
  {
   "cell_type": "code",
   "execution_count": 69,
   "id": "deec0b08-cd45-4860-b8c7-1e50e9e6adf3",
   "metadata": {},
   "outputs": [
    {
     "name": "stdout",
     "output_type": "stream",
     "text": [
      "el precio es 10.90\n"
     ]
    }
   ],
   "source": [
    "# al usar un dato decimal podemos indicar el numero de decimales que\n",
    "# deseamos mostrar antes de la f\n",
    "precio=10.904565\n",
    "print(\"el precio es %.2f\"%(precio))"
   ]
  },
  {
   "cell_type": "markdown",
   "id": "6bc00264-e79c-4ae6-aed9-2c3f53da8738",
   "metadata": {},
   "source": [
    "### .format()\n",
    "tambien es posible usar el metodo `.format()` para formatear cadenas.\n",
    "Es mas flexible y permite pasar las variables directamente dentro de la cadena\n",
    "sin necesidades de operadores `%`, los marcadores son simplemente `{}`."
   ]
  },
  {
   "cell_type": "code",
   "execution_count": 72,
   "id": "3579b43c-e2d9-4ee9-b6ab-932a1b1c7708",
   "metadata": {},
   "outputs": [
    {
     "name": "stdout",
     "output_type": "stream",
     "text": [
      "El nombre del niño es: Gianluca\n"
     ]
    }
   ],
   "source": [
    "nombre_child=\"Gianluca\"\n",
    "print(\"El nombre del niño es: {}\".format(nombre_child))\n",
    "#si tenemos varios valores de la misma manera le pasamos las variables segun\n",
    "#la posicion separados por comas"
   ]
  },
  {
   "cell_type": "markdown",
   "id": "2349ac07-96ef-43b2-b0d7-32fdb36c113a",
   "metadata": {},
   "source": [
    "### Caracteres especiales\n",
    "ademas del formateo de insecion de variables, tambien existen caracteres especiales, para representar acciones especiales o caracteres como el  `Enter` y la `tabulacion`"
   ]
  },
  {
   "cell_type": "markdown",
   "id": "b5063b6e-8c72-4191-bc8a-d51c67a749b1",
   "metadata": {},
   "source": [
    "**\\n** este caracter especial crea una nueva linea"
   ]
  },
  {
   "cell_type": "code",
   "execution_count": 73,
   "id": "7674baf5-bdbb-4d12-a0f2-390f42373ec1",
   "metadata": {},
   "outputs": [
    {
     "name": "stdout",
     "output_type": "stream",
     "text": [
      "esta es una linea,\n",
      " esta es otra linea\n"
     ]
    }
   ],
   "source": [
    "print(\"esta es una linea,\\n esta es otra linea\")"
   ]
  },
  {
   "cell_type": "markdown",
   "id": "f50365b1-6989-4574-82e0-e776a01a78ac",
   "metadata": {},
   "source": [
    "**\\t** caracter de tabulacion, se usa para agregar un espacion de tabulacion"
   ]
  },
  {
   "cell_type": "code",
   "execution_count": 74,
   "id": "8c0acbeb-49f1-4375-8146-f1d936292162",
   "metadata": {},
   "outputs": [
    {
     "name": "stdout",
     "output_type": "stream",
     "text": [
      "texto normal \ttabulacion\n"
     ]
    }
   ],
   "source": [
    "print(\"texto normal \\ttabulacion\")"
   ]
  },
  {
   "cell_type": "markdown",
   "id": "2909ce7f-cb99-471b-ae92-767fd4dfdd58",
   "metadata": {},
   "source": [
    "**\\\\** se usa para agregar una barra invertida"
   ]
  },
  {
   "cell_type": "code",
   "execution_count": 75,
   "id": "b78c3762-4e0a-4555-a475-11594de21c1a",
   "metadata": {},
   "outputs": [
    {
     "name": "stdout",
     "output_type": "stream",
     "text": [
      "esto solo muestra una sola barra invertida \\\n"
     ]
    }
   ],
   "source": [
    "print(\"esto solo muestra una sola barra invertida \\\\\")"
   ]
  },
  {
   "cell_type": "markdown",
   "id": "7fd87bf5-c80c-44a3-902f-05bf27ba27cc",
   "metadata": {},
   "source": [
    "**\\\"** se usa para imprimir comillas dobles cuanto estamos trabajando con una cadena creada con comillas dobles `\"\"` en el interior, lo mismo sucede con las comillas simples `''`"
   ]
  },
  {
   "cell_type": "code",
   "execution_count": 76,
   "id": "2fd2ed74-8693-4b13-99ae-338dedd42573",
   "metadata": {},
   "outputs": [
    {
     "name": "stdout",
     "output_type": "stream",
     "text": [
      "este texto esta \"entre comillas\".\n"
     ]
    }
   ],
   "source": [
    "print(\"este texto esta \\\"entre comillas\\\".\")"
   ]
  },
  {
   "cell_type": "code",
   "execution_count": null,
   "id": "0ede99a7-7ce9-4d74-80ff-1927b7040fb0",
   "metadata": {},
   "outputs": [],
   "source": []
  }
 ],
 "metadata": {
  "kernelspec": {
   "display_name": "Python (uv)~",
   "language": "python",
   "name": "uv-env"
  },
  "language_info": {
   "codemirror_mode": {
    "name": "ipython",
    "version": 3
   },
   "file_extension": ".py",
   "mimetype": "text/x-python",
   "name": "python",
   "nbconvert_exporter": "python",
   "pygments_lexer": "ipython3",
   "version": "3.13.0"
  }
 },
 "nbformat": 4,
 "nbformat_minor": 5
}
