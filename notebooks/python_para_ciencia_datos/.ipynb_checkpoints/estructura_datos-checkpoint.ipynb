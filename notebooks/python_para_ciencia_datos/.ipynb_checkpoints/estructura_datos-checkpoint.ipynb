{
 "cells": [
  {
   "cell_type": "markdown",
   "id": "7e2fb2d8-c599-4a04-9cd8-15fdf135fd86",
   "metadata": {},
   "source": [
    "# Estructuras de datos"
   ]
  },
  {
   "cell_type": "markdown",
   "id": "d972ba94-5b8a-436c-8edc-438d4fb8f2cf",
   "metadata": {},
   "source": [
    "## Listas\n",
    "nos permite almacenar una coleccion de items, que son almacenados juntos de manera organizada.\n",
    "Algunos ejemplos de conjuntos de elementos en python son las listas, strings y los diccionarios.\n",
    "Las listas pueden almacenar una coleccion de items en orden, este tipo de datos son delimitadas por corchetes `[]` y sus elementos son separados por comas.\n",
    "Estas pueden alamcenar cualquier tipo de items, numeros, strings, objetos, otras listas entre otros"
   ]
  },
  {
   "cell_type": "code",
   "execution_count": 3,
   "id": "0330cadf-a76d-4e8d-8687-6f8ec73acd19",
   "metadata": {},
   "outputs": [
    {
     "data": {
      "text/plain": [
       "['jose', 4, 0.6, 'alvarez', True]"
      ]
     },
     "execution_count": 3,
     "metadata": {},
     "output_type": "execute_result"
    }
   ],
   "source": [
    "lista=['jose',4,0.6,\"alvarez\",True]\n",
    "lista"
   ]
  },
  {
   "cell_type": "code",
   "execution_count": 4,
   "id": "78b73832-0ab7-46dc-b715-c1db760580df",
   "metadata": {},
   "outputs": [
    {
     "data": {
      "text/plain": [
       "list"
      ]
     },
     "execution_count": 4,
     "metadata": {},
     "output_type": "execute_result"
    }
   ],
   "source": [
    "type(lista)"
   ]
  },
  {
   "cell_type": "markdown",
   "id": "bb853ba0-2c93-4964-bd69-97b0e7c4c529",
   "metadata": {},
   "source": [
    "las listas son organizadas en python por que **cada elemento de la lista tiene un indice que indica su posicion en interior de la lista**, los indices comienzan en 0.\n",
    "\n",
    "Tenemoos entonces 5 elementos con indices que van desde 0 a 4 ordenadamente\n",
    "\n",
    "```python\n",
    "#        [0] [1] [2]    [3]    [4]\n",
    "lista=['jose',4,0.6,\"alvarez\",True]\n",
    "```"
   ]
  },
  {
   "cell_type": "markdown",
   "id": "2698efe0-dd51-4653-a134-4b1f76af726b",
   "metadata": {},
   "source": [
    "Tambien podemos trabajar con indices negativos\n",
    "\n",
    "```python\n",
    "#        [-5] [-4] [-3]    [-2]    [-1]\n",
    "lista=['jose',4,0.6,\"alvarez\",True]\n",
    "```"
   ]
  },
  {
   "cell_type": "markdown",
   "id": "41cef838-4e37-49e2-b7c4-0b7fbd1f879b",
   "metadata": {},
   "source": [
    "podemos acceder a cada elemento de la lista a travez de sus respectivos indices"
   ]
  },
  {
   "cell_type": "code",
   "execution_count": 5,
   "id": "42f1bd00-5f61-49ef-80e0-92b2759c1fd7",
   "metadata": {},
   "outputs": [
    {
     "data": {
      "text/plain": [
       "0.6"
      ]
     },
     "execution_count": 5,
     "metadata": {},
     "output_type": "execute_result"
    }
   ],
   "source": [
    "lista[2]"
   ]
  },
  {
   "cell_type": "markdown",
   "id": "81edf4f3-1968-4ab7-9bb8-60e5e2d965fe",
   "metadata": {},
   "source": [
    "una forma dinamica de trabajar elemento a elemnto es utiliznado un bucle `for` para leer un elemento a la vez"
   ]
  },
  {
   "cell_type": "code",
   "execution_count": 7,
   "id": "ced0081f-6eda-42b0-886c-d5c4190dcd88",
   "metadata": {},
   "outputs": [
    {
     "name": "stdout",
     "output_type": "stream",
     "text": [
      "jose\n",
      "4\n",
      "0.6\n",
      "alvarez\n",
      "True\n"
     ]
    }
   ],
   "source": [
    "for elemento in lista:\n",
    "    print(elemento)"
   ]
  },
  {
   "cell_type": "markdown",
   "id": "881f0bba-252c-4999-b700-287677e2a12c",
   "metadata": {},
   "source": [
    "**Situacion**: La nota 9.0 de jose necesita ser ajustada pues gano 1 punto en su ultima participacion en clase. Entonces es necesario realizar un cambio en el indice 2 de 9.0 a 10.0"
   ]
  },
  {
   "cell_type": "code",
   "execution_count": 10,
   "id": "fb5ec700-55ac-4007-94ce-293f2f3b4037",
   "metadata": {},
   "outputs": [
    {
     "data": {
      "text/plain": [
       "['jose', 6.5, 10.0, 7.0, True]"
      ]
     },
     "execution_count": 10,
     "metadata": {},
     "output_type": "execute_result"
    }
   ],
   "source": [
    "lista_notas=[\"jose\",6.5,9.0,7.0,True]\n",
    "lista_notas[2]=10.0\n",
    "lista_notas"
   ]
  },
  {
   "cell_type": "code",
   "execution_count": 15,
   "id": "38676cf2-073f-4972-b27c-3dc1beb9aa73",
   "metadata": {},
   "outputs": [
    {
     "data": {
      "text/plain": [
       "7.833333333333333"
      ]
     },
     "execution_count": 15,
     "metadata": {},
     "output_type": "execute_result"
    }
   ],
   "source": [
    "# calcular el promedio de sus notas\n",
    "promedio=(lista_notas[1]+lista_notas[2]+lista_notas[3])/3\n",
    "promedio"
   ]
  },
  {
   "cell_type": "code",
   "execution_count": 20,
   "id": "bff8be56-8b5b-4dbc-89ea-a875c88cdd4f",
   "metadata": {},
   "outputs": [
    {
     "name": "stdout",
     "output_type": "stream",
     "text": [
      "7.833333333333333\n"
     ]
    }
   ],
   "source": [
    "suma_notas=0\n",
    "cantidad_notas=0\n",
    "for n in range(1,len(lista_notas)-1):\n",
    "    suma_notas+=lista_notas[n]\n",
    "    cantidad_notas=n\n",
    "print(suma_notas/cantidad_notas)"
   ]
  },
  {
   "cell_type": "markdown",
   "id": "3941b1b6-4386-43fb-a144-9a3a9800a8df",
   "metadata": {},
   "source": [
    "## String secuencia de caracteres\n",
    "a un string tambien se le puede tratar como una lista solo en el sentido de acceder a sus elementos en este caso a sus caracteres"
   ]
  },
  {
   "cell_type": "code",
   "execution_count": 21,
   "id": "b15449ef-6033-4972-b59a-682fa35af9d9",
   "metadata": {},
   "outputs": [
    {
     "data": {
      "text/plain": [
       "'h'"
      ]
     },
     "execution_count": 21,
     "metadata": {},
     "output_type": "execute_result"
    }
   ],
   "source": [
    "lenguaje=\"Python\"\n",
    "lenguaje[3]"
   ]
  },
  {
   "cell_type": "markdown",
   "id": "34235eb3-69b1-47fb-b668-5adcffdb35e8",
   "metadata": {},
   "source": [
    "sin embargo no podemos cambiar sus valores ya que el sistema nos arrojaria un error."
   ]
  },
  {
   "cell_type": "markdown",
   "id": "4884fc0e-30be-466a-82d9-9047039d885f",
   "metadata": {},
   "source": [
    "### split()\n",
    "sin embargo podemos convertir una cadena a una lista mediante el metodo `split()`\n",
    "usando un delimitador especifico entre parentesis"
   ]
  },
  {
   "cell_type": "code",
   "execution_count": 22,
   "id": "6087270b-af3f-4318-8e2b-a45307d58f54",
   "metadata": {},
   "outputs": [
    {
     "name": "stdout",
     "output_type": "stream",
     "text": [
      "['¿Quién vino primero', ' ¿El huevo', ' ¿O fue la serpiente', '']\n"
     ]
    }
   ],
   "source": [
    "pregunta = '¿Quién vino primero? ¿El huevo? ¿O fue la serpiente?'\n",
    "lista_palabras = pregunta.split('?')\n",
    "print(lista_palabras)"
   ]
  },
  {
   "cell_type": "markdown",
   "id": "bf2dd410-5404-407e-85eb-36efe56ac903",
   "metadata": {},
   "source": [
    "el deliminador no aparece en la separacion. si no se define un delimitador la cadena se separar por todos los espacion en blanco en el texto"
   ]
  },
  {
   "cell_type": "code",
   "execution_count": 23,
   "id": "85d45deb-13e4-491b-8191-f10e6544a0c7",
   "metadata": {},
   "outputs": [
    {
     "name": "stdout",
     "output_type": "stream",
     "text": [
      "['¿Quién', 'vino', 'primero?', '¿El', 'huevo?', '¿O', 'fue', 'la', 'serpiente?']\n"
     ]
    }
   ],
   "source": [
    "lista_palabras = pregunta.split()\n",
    "print(lista_palabras)"
   ]
  },
  {
   "cell_type": "markdown",
   "id": "83134c51-2098-4612-a3ce-f74aefcfcdee",
   "metadata": {},
   "source": [
    "### join()\n",
    "este metodo hace lo contrario a `split()`, convertimos una lista en una cadena.\n",
    "para esto primero debemos definir el caracter que usaremos para unir los elementos luego usaremos el metodo `join()` pasando la lista como argumento"
   ]
  },
  {
   "cell_type": "code",
   "execution_count": 25,
   "id": "38771e72-030d-4146-aae3-dec0d5812e3a",
   "metadata": {},
   "outputs": [
    {
     "name": "stdout",
     "output_type": "stream",
     "text": [
      "Pinturas: rojo, azul y amarillo. Verde: mezcla de azul y amarillo. Naranja: mezcla de rojo y amarillo. Morado: mezcla de rojo y azul\n"
     ]
    }
   ],
   "source": [
    "mezclas = ['Pinturas: rojo, azul y amarillo',\n",
    "            'Verde: mezcla de azul y amarillo',\n",
    "            'Naranja: mezcla de rojo y amarillo',\n",
    "            'Morado: mezcla de rojo y azul']\n",
    "unificador = '. '\n",
    "cadena_mezclas = unificador.join(mezclas)\n",
    "print(cadena_mezclas)"
   ]
  },
  {
   "cell_type": "markdown",
   "id": "e26bd4bf-540a-4b1d-b523-b0329264e22b",
   "metadata": {},
   "source": [
    "## Manipulacion de listas\n",
    "las listas son utiles por que nos permiten almacenar y acceder a una coleccion de items de manera organizada y rapida.\n",
    "etsa tambien nos ofrece metodos utlies para manipular los items, como adicionar, remover, clasificar y buscar elementos\n",
    "### cantidad de elementos\n",
    "para saber la cantidad de elementos de una lista usamos la funcion `len()`"
   ]
  },
  {
   "cell_type": "code",
   "execution_count": 26,
   "id": "81725aee-0c9f-4eaf-87b7-f5df1b632bde",
   "metadata": {},
   "outputs": [
    {
     "data": {
      "text/plain": [
       "8"
      ]
     },
     "execution_count": 26,
     "metadata": {},
     "output_type": "execute_result"
    }
   ],
   "source": [
    "lista=[3,6,7,8,2,4,5,7]\n",
    "len(lista)"
   ]
  },
  {
   "cell_type": "markdown",
   "id": "643d7fb9-bf2f-478e-923c-1d4ed04d4380",
   "metadata": {},
   "source": [
    "### particion\n",
    "la prticion de listas por indexacion es un tecnica util para seleccionar un subconjunto de elementos de una lista}.\n",
    "esto se realiza usando la sintaxys `lista[inicio:fin]`donde el `inicio` es el inidice del primer elemento que sera incluido en la particion y `fin` es el indice del primer elemento que sera excluido de la particion"
   ]
  },
  {
   "cell_type": "code",
   "execution_count": 27,
   "id": "8e27f914-1f58-47b1-94dd-6b6c885307fe",
   "metadata": {},
   "outputs": [
    {
     "data": {
      "text/plain": [
       "[6, 7]"
      ]
     },
     "execution_count": 27,
     "metadata": {},
     "output_type": "execute_result"
    }
   ],
   "source": [
    "lista[1:3]"
   ]
  },
  {
   "cell_type": "markdown",
   "id": "ecb94807-a0a0-4a90-8607-2b745d0f5db7",
   "metadata": {},
   "source": [
    "### append()\n",
    "añade un elemento al final de una lista"
   ]
  },
  {
   "cell_type": "code",
   "execution_count": 29,
   "id": "54b116f9-4519-4c53-bdc1-11d4e3e8785f",
   "metadata": {},
   "outputs": [
    {
     "data": {
      "text/plain": [
       "[3, 6, 7, 8, 2, 4, 5, 7, 'hola']"
      ]
     },
     "execution_count": 29,
     "metadata": {},
     "output_type": "execute_result"
    }
   ],
   "source": [
    "lista.append(\"hola\")\n",
    "lista"
   ]
  },
  {
   "cell_type": "markdown",
   "id": "3996bbb7-5cb3-4e04-9407-386086877ece",
   "metadata": {},
   "source": [
    "### extend()\n",
    "Añade varios elementos al final de la lista"
   ]
  },
  {
   "cell_type": "code",
   "execution_count": 30,
   "id": "0e94ce4b-30dd-4482-a582-c53a5e474890",
   "metadata": {},
   "outputs": [
    {
     "data": {
      "text/plain": [
       "[3, 6, 7, 8, 2, 4, 5, 7, 'hola', 5, 6.7, 10]"
      ]
     },
     "execution_count": 30,
     "metadata": {},
     "output_type": "execute_result"
    }
   ],
   "source": [
    "#podremos añadir varios elementos\n",
    "lista.extend([5,6.7,10])\n",
    "lista\n"
   ]
  },
  {
   "cell_type": "markdown",
   "id": "b3c9b8ee-123e-494a-98fc-eb111468cb65",
   "metadata": {},
   "source": [
    "### remove()\n",
    "remueve un elemento especifico de la lista"
   ]
  },
  {
   "cell_type": "code",
   "execution_count": 31,
   "id": "22627ae2-65c2-45e5-8dfa-cda109592082",
   "metadata": {},
   "outputs": [
    {
     "data": {
      "text/plain": [
       "[3, 6, 7, 8, 2, 4, 5, 7, 5, 6.7, 10]"
      ]
     },
     "execution_count": 31,
     "metadata": {},
     "output_type": "execute_result"
    }
   ],
   "source": [
    "lista.remove(\"hola\")\n",
    "lista"
   ]
  },
  {
   "cell_type": "markdown",
   "id": "583454bc-4eea-4b20-a6ad-2ad538417873",
   "metadata": {},
   "source": [
    "### insert()\n",
    "permite insertar un elemento en una posicion especifica de la lista.\n",
    "su sintaxys:\n",
    "```python\n",
    "lista.insert(indice,elemento)\n",
    "```"
   ]
  },
  {
   "cell_type": "markdown",
   "id": "701c787f-0890-4c90-876d-f841579753c1",
   "metadata": {},
   "source": [
    "### pop()\n",
    "elimina el elemento en una posicion especicifca de la lista y lo devuelve como salida.\n",
    "solo necesitamos especificar entre parentesis el inidice del elemento que deseamos eliminar\n",
    "```python\n",
    "lista.pop(1)\n",
    "```"
   ]
  },
  {
   "cell_type": "markdown",
   "id": "f1282321-ffaf-4fd5-830b-a78629a44adf",
   "metadata": {},
   "source": [
    "## Diccionarios\n",
    "almacena pares de clave:valor y estos estan delimitados por llaves `{}` y los pares de clave:valor estan separados por comas.\n",
    "```python\n",
    "diccionario={clave:valor}\n",
    "```\n",
    "las claves es la forma como identifacmos a un valor en el diccionario.\n",
    "\n",
    "**Situacion**: vamos a crear un conjunto de datos con la informacion de matricula de un estudiante. los datos son los siguientes:\n",
    "* matricula: 2000273467\n",
    "* dia de registro: 25\n",
    "* mes de registro:10\n",
    "* grupo:2E"
   ]
  },
  {
   "cell_type": "code",
   "execution_count": 33,
   "id": "7a325dba-1d91-423c-b70f-5bba966f9826",
   "metadata": {},
   "outputs": [
    {
     "data": {
      "text/plain": [
       "{'matricula': 2000273467,\n",
       " 'dia_registro': 25,\n",
       " 'mes_registro': 10,\n",
       " 'grupo': '2E'}"
      ]
     },
     "execution_count": 33,
     "metadata": {},
     "output_type": "execute_result"
    }
   ],
   "source": [
    "estudiante={\n",
    "    \"matricula\":2000273467,\n",
    "    \"dia_registro\":25,\n",
    "    \"mes_registro\":10,\n",
    "    \"grupo\":\"2E\"\n",
    "}\n",
    "estudiante"
   ]
  },
  {
   "cell_type": "markdown",
   "id": "cc21e17b-4f8d-40b1-b4d2-eb17444602e0",
   "metadata": {},
   "source": [
    "es posible sustituir los valores dentro de una llave, por ejemplo para cambiar de grupo al estudiante"
   ]
  },
  {
   "cell_type": "code",
   "execution_count": 34,
   "id": "13993260-970c-4dc4-b272-9655ba73f2fc",
   "metadata": {},
   "outputs": [
    {
     "data": {
      "text/plain": [
       "{'matricula': 2000273467,\n",
       " 'dia_registro': 25,\n",
       " 'mes_registro': 10,\n",
       " 'grupo': '2B'}"
      ]
     },
     "execution_count": 34,
     "metadata": {},
     "output_type": "execute_result"
    }
   ],
   "source": [
    "estudiante[\"grupo\"]=\"2B\"\n",
    "estudiante"
   ]
  },
  {
   "cell_type": "markdown",
   "id": "ee69c785-357f-4d26-a6e3-b9c44d97b31b",
   "metadata": {},
   "source": [
    "podemos añadir otros datos al diccionario, añadiremos infromacion sobre modalidad de estudio con su valor EAD"
   ]
  },
  {
   "cell_type": "code",
   "execution_count": 35,
   "id": "c3728ed4-0823-4706-8b90-b5ed6ec911ff",
   "metadata": {},
   "outputs": [
    {
     "data": {
      "text/plain": [
       "{'matricula': 2000273467,\n",
       " 'dia_registro': 25,\n",
       " 'mes_registro': 10,\n",
       " 'grupo': '2B',\n",
       " 'modalidad': 'EAD'}"
      ]
     },
     "execution_count": 35,
     "metadata": {},
     "output_type": "execute_result"
    }
   ],
   "source": [
    "estudiante[\"modalidad\"]=\"EAD\"\n",
    "estudiante"
   ]
  },
  {
   "cell_type": "markdown",
   "id": "73944c8f-fd39-408e-a2bc-424706363a39",
   "metadata": {},
   "source": [
    "## Profundizando en diccionarios\n",
    "### pop()\n",
    "remueve un item de un diccionario y lo representa en la salida\n",
    "```python\n",
    "estudiante.pop('grupo')\n",
    "```\n",
    "### items()\n",
    "retorna una lista de pares clave:valor del diccionario\n",
    "```python\n",
    "estudiante.items()\n",
    "```\n",
    "### keys()\n",
    "retorna una lista de las claves del diccionario\n",
    "```python\n",
    "estudiante.keys()\n",
    "```"
   ]
  }
 ],
 "metadata": {
  "kernelspec": {
   "display_name": "Python 3 (ipykernel)",
   "language": "python",
   "name": "python3"
  },
  "language_info": {
   "codemirror_mode": {
    "name": "ipython",
    "version": 3
   },
   "file_extension": ".py",
   "mimetype": "text/x-python",
   "name": "python",
   "nbconvert_exporter": "python",
   "pygments_lexer": "ipython3",
   "version": "3.13.0"
  }
 },
 "nbformat": 4,
 "nbformat_minor": 5
}
