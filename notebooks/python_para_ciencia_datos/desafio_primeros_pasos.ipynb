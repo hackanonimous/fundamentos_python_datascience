{
 "cells": [
  {
   "cell_type": "markdown",
   "id": "a9f8cfc9-82ec-4630-9bdc-2ca0f9d281c6",
   "metadata": {},
   "source": [
    "## Recopilacion y muestra de datos\n",
    "1 - Crea un programa que solicite al usuario que escriba su nombre y luego imprima \"Hola, [nombre].\"\n",
    "\n",
    "2 - Crea un programa que solicite al usuario que escriba su nombre y edad, y luego imprima \"Hola, [nombre], tienes [edad] años.\"\n",
    "\n",
    "3 - Crea un programa que solicite al usuario que escriba su nombre, edad y altura en metros, y luego imprima \"Hola, [nombre], tienes [edad] años y mides [altura] metros.\""
   ]
  },
  {
   "cell_type": "code",
   "execution_count": 2,
   "id": "7426a7f3-c802-4463-b6c4-7a0d7d805a0b",
   "metadata": {},
   "outputs": [
    {
     "name": "stdin",
     "output_type": "stream",
     "text": [
      "Ingrese su nombre: jose alvarez\n"
     ]
    },
    {
     "name": "stdout",
     "output_type": "stream",
     "text": [
      "Hola jose alvarez\n"
     ]
    }
   ],
   "source": [
    "nombre_usuario:str=input(\"Ingrese su nombre:\")\n",
    "print(\"Hola {}\".format(nombre_usuario))"
   ]
  },
  {
   "cell_type": "markdown",
   "id": "6be63e5d-a183-4e4c-b90a-267ba14538d1",
   "metadata": {},
   "source": [
    "## Calculadora con operadores"
   ]
  },
  {
   "cell_type": "markdown",
   "id": "d7d33c46-ff61-4363-9f8d-5008724f5025",
   "metadata": {},
   "source": [
    "4 - Crea un programa que solicite dos valores numéricos al usuario y luego imprima la suma de ambos valores.\n",
    "\n",
    "5 - Crea un programa que solicite tres valores numéricos al usuario y luego imprima la suma de los tres valores.\n",
    "\n",
    "6 - Crea un programa que solicite dos valores numéricos al usuario y luego imprima la resta del primero menos el segundo valor.\n",
    "\n",
    "7 - Crea un programa que solicite dos valores numéricos al usuario y luego imprima la multiplicación de los dos valores.\n",
    "\n",
    "8 - Crea un programa que solicite dos valores numéricos, un numerador y un denominador, y realice la división entre los dos valores. Asegúrate de que el valor del denominador no sea igual a 0.\n",
    "\n",
    "9 - Crea un programa que solicite dos valores numéricos, un operador y una potencia, y realice la exponenciación entre estos dos valores.\n",
    "\n",
    "10 - Crea un programa que solicite dos valores numéricos, un numerador y un denominador, y realice la división entera entre los dos valores. Asegúrate de que el valor del denominador no sea igual a 0.\n",
    "\n",
    "11 - Crea un programa que solicite dos valores numéricos, un numerador y un denominador, y devuelva el resto de la división entre los dos valores. Asegúrate de que el valor del denominador no sea igual a 0.\n",
    "\n",
    "12 - Crea un código que solicite las 3 notas de un estudiante e imprima el promedio de las notas.\n",
    "\n",
    "13 - Crea un código que calcule e imprima el promedio ponderado de los números 5, 12, 20 y 15 con pesos respectivamente iguales a 1, 2, 3 y 4."
   ]
  },
  {
   "cell_type": "markdown",
   "id": "fcf39678-b944-4034-b7a0-8ded70d59a7d",
   "metadata": {},
   "source": [
    "## Editando textos"
   ]
  },
  {
   "cell_type": "markdown",
   "id": "7442f0c7-485e-466b-8030-3512e0e92e89",
   "metadata": {},
   "source": [
    "14 - Crea una variable llamada \"frase\" y asígnale una cadena de texto de tu elección. Luego, imprime la frase en pantalla.\n",
    "\n",
    "15 - Crea un código que solicite una frase y luego imprima la frase en pantalla.\n",
    "\n",
    "16 - Crea un código que solicite una frase al usuario y luego imprima la misma frase ingresada pero en mayúsculas.\n",
    "\n",
    "17 - Crea un código que solicite una frase al usuario y luego imprima la misma frase ingresada pero en minúsculas.\n",
    "\n",
    "18 - Crea una variable llamada \"frase\" y asígnale una cadena de texto de tu elección. Luego, imprime la frase sin espacios en blanco al principio y al final.\n",
    "\n",
    "19 - Crea un código que solicite una frase al usuario y luego imprima la misma frase sin espacios en blanco al principio y al final.\n",
    "\n",
    "20 - Crea un código que solicite una frase al usuario y luego imprima la misma frase sin espacios en blanco al principio y al final, además de convertirla a minúsculas.\n",
    "\n",
    "21 - Crea un código que solicite una frase al usuario y luego imprima la misma frase con todas las vocales \"e\" reemplazadas por la letra \"f\".\n",
    "\n",
    "22 - Crea un código que solicite una frase al usuario y luego imprima la misma frase con todas las vocales \"a\" reemplazadas por el carácter \"@\".\n",
    "\n",
    "23 - Crea un código que solicite una frase al usuario y luego imprima la misma frase con todas las consonantes \"s\" reemplazadas por el carácter \"$\"."
   ]
  },
  {
   "cell_type": "code",
   "execution_count": null,
   "id": "e849c24b-272c-4a03-ad86-01402dc0f53f",
   "metadata": {},
   "outputs": [],
   "source": []
  }
 ],
 "metadata": {
  "kernelspec": {
   "display_name": "Python 3 (ipykernel)",
   "language": "python",
   "name": "python3"
  },
  "language_info": {
   "codemirror_mode": {
    "name": "ipython",
    "version": 3
   },
   "file_extension": ".py",
   "mimetype": "text/x-python",
   "name": "python",
   "nbconvert_exporter": "python",
   "pygments_lexer": "ipython3",
   "version": "3.13.0"
  }
 },
 "nbformat": 4,
 "nbformat_minor": 5
}
