{
 "cells": [
  {
   "cell_type": "markdown",
   "id": "187569a3-def7-452c-94e4-efcdbe2b3ff7",
   "metadata": {},
   "source": [
    "# Estructuras condicionales"
   ]
  },
  {
   "cell_type": "markdown",
   "id": "f1d34187-99f6-46a5-8237-871f24027ad8",
   "metadata": {},
   "source": [
    "## if y else\n",
    "los comandos `if else` son dos estructuras condicionales. El comando `if` ejecutara el bloque en caso la condicion sea **`verdadera`**. El comando `else` ejecutara el bloque de comandos en caso que la condicion de `if` sea **`falsa`**.\n",
    "La sintaxys para usar el comando `if` es:\n",
    "```python\n",
    "if condicion:\n",
    "    #realiza algo si la condicion es verdad\n",
    "```"
   ]
  },
  {
   "cell_type": "code",
   "execution_count": 1,
   "id": "4b72589f-ad00-48a1-b946-d4d2a6e2352e",
   "metadata": {},
   "outputs": [
    {
     "name": "stdout",
     "output_type": "stream",
     "text": [
      "la condicion es verdadera\n"
     ]
    }
   ],
   "source": [
    "if 2<7:\n",
    "    print(\"la condicion es verdadera\")"
   ]
  },
  {
   "cell_type": "code",
   "execution_count": 3,
   "id": "60f9ec5f-3b84-4745-9131-d9073922e997",
   "metadata": {},
   "outputs": [],
   "source": [
    "if 2>7:\n",
    "    print(\"no se ejecuta por que la condicion es falsa\")"
   ]
  },
  {
   "cell_type": "markdown",
   "id": "045439d3-fe71-400a-b290-a8e46d8dc33e",
   "metadata": {
    "jupyter": {
     "source_hidden": true
    }
   },
   "source": [
    "El comado `else` en Python se usa en funcion con la palabra `if` para formar una estructura condicional.\n",
    "La sintaxys es la siquiente:\n",
    "```python\n",
    "if condicion:\n",
    "    #el codigo en caso la condicion sea verdadera\n",
    "else:\n",
    "    #el codigo en caso la condicion sea falsa\n",
    "```\n",
    "el comando `else` ejecutara el bloque cuando la condicion de if sea evaluada como `false`"
   ]
  },
  {
   "cell_type": "code",
   "execution_count": 4,
   "id": "62e6ba08-8cd5-4168-afee-6a270d68aa0b",
   "metadata": {},
   "outputs": [
    {
     "name": "stdout",
     "output_type": "stream",
     "text": [
      "la condicion es verdadera\n"
     ]
    }
   ],
   "source": [
    "if 2>7:\n",
    "    print(\"la condicion verdadera\")\n",
    "else:\n",
    "    print(\"la condicion es verdadera\")"
   ]
  },
  {
   "cell_type": "markdown",
   "id": "3eebc8ac-5f4f-466c-8bf0-7f4eacfa69d6",
   "metadata": {},
   "source": [
    "## Usando if y else\n",
    "**Situacion:**\n",
    "\n",
    "Recibireos el promedio de la nota de estudiantes y necesitamos de un algortimo que ejecute el analisis y determine si el estudiantes fue `Aprobado` o `Reporbado`, mostrando un mensaje del resultado. para ser aprobado el pormedo necesita se igual o superior a 7.0."
   ]
  },
  {
   "cell_type": "code",
   "execution_count": 7,
   "id": "41c832c5-8670-4796-b9b4-b7d2e79fb70a",
   "metadata": {},
   "outputs": [
    {
     "name": "stdin",
     "output_type": "stream",
     "text": [
      "Ingrese su promedio 5\n"
     ]
    },
    {
     "name": "stdout",
     "output_type": "stream",
     "text": [
      "Reprobado\n"
     ]
    }
   ],
   "source": [
    "promedio=float(input(\"Ingrese su promedio\"))\n",
    "if promedio>=7.0:\n",
    "    print(\"Aporbado\")\n",
    "else:\n",
    "    print(\"Reprobado\")"
   ]
  },
  {
   "cell_type": "markdown",
   "id": "9e68733a-c10c-44b1-8311-210aeb229bd3",
   "metadata": {},
   "source": [
    "Ahora nuestra institucion establece que las personas que tengan el promedio entre 5.0 y 7.0 pasan al proceso de `Recuperacion`."
   ]
  },
  {
   "cell_type": "code",
   "execution_count": 11,
   "id": "0b5646ee-cac6-4e86-bb1c-0919c70ae128",
   "metadata": {},
   "outputs": [
    {
     "name": "stdin",
     "output_type": "stream",
     "text": [
      "Ingrese la nota: 7\n"
     ]
    },
    {
     "name": "stdout",
     "output_type": "stream",
     "text": [
      "Aprobado\n"
     ]
    }
   ],
   "source": [
    "promedio=float(input(\"Ingrese la nota:\"))\n",
    "if promedio<7.0:\n",
    "    if promedio >=5.0:\n",
    "        print(\"Recuperacion\")\n",
    "    else:\n",
    "        print(\"Reprobado\")\n",
    "else:\n",
    "    print(\"Aprobado\")"
   ]
  },
  {
   "cell_type": "code",
   "execution_count": 16,
   "id": "72072a70-a79e-4d12-b773-b69e2980d368",
   "metadata": {},
   "outputs": [
    {
     "name": "stdin",
     "output_type": "stream",
     "text": [
      "Ingrese la nota: 4\n"
     ]
    },
    {
     "name": "stdout",
     "output_type": "stream",
     "text": [
      "Reprobado\n"
     ]
    }
   ],
   "source": [
    "#### promedio=float(input(\"Ingrese la nota:\"))\n",
    "if promedio >= 7.0:\n",
    "    print(\"Aprobo\")\n",
    "if 7 > promedio >=5:\n",
    "    print(\"Recuperacion\")\n",
    "if promedio < 5:\n",
    "    print(\"Reprobado\")"
   ]
  },
  {
   "cell_type": "markdown",
   "id": "3a0cc706-24c0-433c-97a2-ba602b604d08",
   "metadata": {},
   "source": [
    "## elif\n",
    "plabra clave que significa `sino si` se usa en conjunto con la pabra clave if\n",
    "la sintaxys es la siquiente:\n",
    "```python\n",
    "if condicion1:\n",
    "    #realiza algo\n",
    "elif condicion2:\n",
    "    #realiza otra cosa\n",
    "elif condicion3:\n",
    "    #realiza otra cosa\n",
    "else:\n",
    "    #realiza algo diferente\n",
    "    \n",
    "```\n",
    "este comando nos permite verificar varias condiciones en cadena hasta que una de ellas se a evaluada como verdad o hasta que se llegue a else"
   ]
  },
  {
   "cell_type": "code",
   "execution_count": 19,
   "id": "bb8326b8-ddb0-47ce-bc7a-f0a8d1792c55",
   "metadata": {},
   "outputs": [
    {
     "name": "stdin",
     "output_type": "stream",
     "text": [
      "Ingrese la nota: 8\n"
     ]
    },
    {
     "name": "stdout",
     "output_type": "stream",
     "text": [
      "Aprobo\n",
      "Reprobado\n"
     ]
    }
   ],
   "source": [
    "## problema\n",
    "promedio=float(input(\"Ingrese la nota:\"))\n",
    "if promedio >= 7.0:\n",
    "    print(\"Aprobo\")\n",
    "if 7 > promedio >=5:\n",
    "    print(\"Recuperacion\")\n",
    "else:\n",
    "    print(\"Reprobado\")"
   ]
  },
  {
   "cell_type": "code",
   "execution_count": 18,
   "id": "fbd4fe61-b59d-4f43-8685-c8cbb10d81f7",
   "metadata": {},
   "outputs": [
    {
     "name": "stdin",
     "output_type": "stream",
     "text": [
      "Ingrese la nota: 8\n"
     ]
    },
    {
     "name": "stdout",
     "output_type": "stream",
     "text": [
      "Aprobo\n"
     ]
    }
   ],
   "source": [
    "promedio=float(input(\"Ingrese la nota:\"))\n",
    "if promedio >= 7.0:\n",
    "    print(\"Aprobo\")\n",
    "elif 7 > promedio >=5:\n",
    "    print(\"Recuperacion\")\n",
    "else:\n",
    "    print(\"Reprobado\")"
   ]
  },
  {
   "cell_type": "markdown",
   "id": "3d4126c4-f8f0-4b0c-93c4-d3fd7841ea45",
   "metadata": {},
   "source": [
    "## Operadores\n",
    "nos permite trabajar con expresiones condicionales complejas python tiene integrado tres operadores condicionales:\n",
    "### AND, OR, NOT\n",
    "estos operadores logico son usados para combinar expresiones logicas y son usados frecuentemente con el comando `if` para crear condicionales mas complejas.\n",
    "* **AND** es usado para verificar si dos condiciones son verdadera\n",
    "* **OR** verifica si al menos una de las condiciones es verdadera\n",
    "* **NOT** es usado para negar una condicion\n",
    "\n",
    "Tabla de verdad y falso con operadores logicos sabiendo que 0 es `falso` y 1 es `verdad`\n",
    "|a|b|AND|OR|NOT|\n",
    "|-|-|--|--|--|\n",
    "|0|0|0|0|1|\n",
    "|0|1|0|1|-|\n",
    "|1|0|0|1|-|\n",
    "|1|1|1|1|0|"
   ]
  },
  {
   "cell_type": "code",
   "execution_count": 20,
   "id": "a732940d-ea52-429d-a773-bfcdc13bcbe1",
   "metadata": {},
   "outputs": [
    {
     "name": "stdout",
     "output_type": "stream",
     "text": [
      "la condicion es falsa\n"
     ]
    }
   ],
   "source": [
    "v=True\n",
    "f=False\n",
    "if v and f:\n",
    "    print(\"la condicion es verdadera\")\n",
    "else:\n",
    "    print(\"la condicion es falsa\")"
   ]
  },
  {
   "cell_type": "code",
   "execution_count": 22,
   "id": "79d2e609-d2d8-444c-93e8-46955c53ea96",
   "metadata": {},
   "outputs": [
    {
     "name": "stdout",
     "output_type": "stream",
     "text": [
      "la condicion es verdadera\n"
     ]
    }
   ],
   "source": [
    "v=True\n",
    "f=False\n",
    "if v or f:\n",
    "    print(\"la condicion es verdadera\")\n",
    "else:\n",
    "    print(\"la condicion es falsa\")"
   ]
  },
  {
   "cell_type": "code",
   "execution_count": 24,
   "id": "b26e49cf-4045-4af6-aa49-42f1ffa98cde",
   "metadata": {},
   "outputs": [
    {
     "name": "stdout",
     "output_type": "stream",
     "text": [
      "la condicion es verdadera\n"
     ]
    }
   ],
   "source": [
    "v=True\n",
    "f=False\n",
    "if not f:\n",
    "    print(\"la condicion es verdadera\")\n",
    "else:\n",
    "    print(\"la condicion es falsa\")"
   ]
  },
  {
   "cell_type": "markdown",
   "id": "8273383d-833d-461b-83ca-028df3e1887e",
   "metadata": {},
   "source": [
    "### IN\n",
    "este oporador es usado para verificar si un elemento esta presente en una lista, tupla u otra coleccion de conjuntos.\n",
    "La expresion `x in` se evalua como `True` si el elemento `x` esta presente en la variable de conjunto y `False` en caso contrario.\n",
    "\n",
    "**Situacion**\n",
    "Se nos entrega una lista con nombres de estudiantes que fueron aprovados segun su promedio del semestre pero es necesario verificar si algunos nombres estan en esa lista para confirmar que los datos esten correctos."
   ]
  },
  {
   "cell_type": "code",
   "execution_count": 25,
   "id": "42925f3c-3cb7-41e6-b83c-eeb47b63a24d",
   "metadata": {},
   "outputs": [],
   "source": [
    "lista=\"luis,milan,jose,silvia,made,yuliana,ivan,diana,ruth,rocio,miguel\""
   ]
  },
  {
   "cell_type": "code",
   "execution_count": 26,
   "id": "6f6cecbc-c1f4-4ba3-ae07-ca4b10b1edf0",
   "metadata": {},
   "outputs": [],
   "source": [
    "nombre_1=\"silvia\"\n",
    "nombre_2=\"antonio\""
   ]
  },
  {
   "cell_type": "code",
   "execution_count": 29,
   "id": "91d7385c-b191-4478-b017-07cc0713a82c",
   "metadata": {},
   "outputs": [
    {
     "name": "stdout",
     "output_type": "stream",
     "text": [
      "el estudiante aprobo\n"
     ]
    }
   ],
   "source": [
    "if nombre_1 in lista:\n",
    "    print(\"el estudiante aprobo\")\n",
    "else:\n",
    "    print(\"el estudiante reprobo\")"
   ]
  },
  {
   "cell_type": "code",
   "execution_count": null,
   "id": "5de6adb1-aaab-47e0-b657-6f8f4c63b2a5",
   "metadata": {},
   "outputs": [],
   "source": []
  }
 ],
 "metadata": {
  "kernelspec": {
   "display_name": "Python 3 (ipykernel)",
   "language": "python",
   "name": "python3"
  },
  "language_info": {
   "codemirror_mode": {
    "name": "ipython",
    "version": 3
   },
   "file_extension": ".py",
   "mimetype": "text/x-python",
   "name": "python",
   "nbconvert_exporter": "python",
   "pygments_lexer": "ipython3",
   "version": "3.13.0"
  }
 },
 "nbformat": 4,
 "nbformat_minor": 5
}
